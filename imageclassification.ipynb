{
  "nbformat": 4,
  "nbformat_minor": 0,
  "metadata": {
    "colab": {
      "provenance": [],
      "authorship_tag": "ABX9TyNVZmBDY4JyYUsHclTO48UT",
      "include_colab_link": true
    },
    "kernelspec": {
      "name": "python3",
      "display_name": "Python 3"
    },
    "language_info": {
      "name": "python"
    }
  },
  "cells": [
    {
      "cell_type": "markdown",
      "metadata": {
        "id": "view-in-github",
        "colab_type": "text"
      },
      "source": [
        "<a href=\"https://colab.research.google.com/github/tanuTriveni/Bitcoin/blob/main/imageclassification.ipynb\" target=\"_parent\"><img src=\"https://colab.research.google.com/assets/colab-badge.svg\" alt=\"Open In Colab\"/></a>"
      ]
    },
    {
      "cell_type": "code",
      "source": [
        "!pip install ipython-autotime\n",
        "%load_ext autotime"
      ],
      "metadata": {
        "colab": {
          "base_uri": "https://localhost:8080/"
        },
        "id": "y-KTmA64cq3F",
        "outputId": "915f51f6-d4b4-4615-a691-3b6b48bcf462"
      },
      "execution_count": null,
      "outputs": [
        {
          "output_type": "stream",
          "name": "stdout",
          "text": [
            "Collecting ipython-autotime\n",
            "  Downloading ipython_autotime-0.3.1-py2.py3-none-any.whl (6.8 kB)\n",
            "Requirement already satisfied: ipython in /usr/local/lib/python3.10/dist-packages (from ipython-autotime) (7.34.0)\n",
            "Requirement already satisfied: setuptools>=18.5 in /usr/local/lib/python3.10/dist-packages (from ipython->ipython-autotime) (67.7.2)\n",
            "Collecting jedi>=0.16 (from ipython->ipython-autotime)\n",
            "  Downloading jedi-0.19.1-py2.py3-none-any.whl (1.6 MB)\n",
            "\u001b[2K     \u001b[90m━━━━━━━━━━━━━━━━━━━━━━━━━━━━━━━━━━━━━━━━\u001b[0m \u001b[32m1.6/1.6 MB\u001b[0m \u001b[31m24.3 MB/s\u001b[0m eta \u001b[36m0:00:00\u001b[0m\n",
            "\u001b[?25hRequirement already satisfied: decorator in /usr/local/lib/python3.10/dist-packages (from ipython->ipython-autotime) (4.4.2)\n",
            "Requirement already satisfied: pickleshare in /usr/local/lib/python3.10/dist-packages (from ipython->ipython-autotime) (0.7.5)\n",
            "Requirement already satisfied: traitlets>=4.2 in /usr/local/lib/python3.10/dist-packages (from ipython->ipython-autotime) (5.7.1)\n",
            "Requirement already satisfied: prompt-toolkit!=3.0.0,!=3.0.1,<3.1.0,>=2.0.0 in /usr/local/lib/python3.10/dist-packages (from ipython->ipython-autotime) (3.0.39)\n",
            "Requirement already satisfied: pygments in /usr/local/lib/python3.10/dist-packages (from ipython->ipython-autotime) (2.16.1)\n",
            "Requirement already satisfied: backcall in /usr/local/lib/python3.10/dist-packages (from ipython->ipython-autotime) (0.2.0)\n",
            "Requirement already satisfied: matplotlib-inline in /usr/local/lib/python3.10/dist-packages (from ipython->ipython-autotime) (0.1.6)\n",
            "Requirement already satisfied: pexpect>4.3 in /usr/local/lib/python3.10/dist-packages (from ipython->ipython-autotime) (4.8.0)\n",
            "Requirement already satisfied: parso<0.9.0,>=0.8.3 in /usr/local/lib/python3.10/dist-packages (from jedi>=0.16->ipython->ipython-autotime) (0.8.3)\n",
            "Requirement already satisfied: ptyprocess>=0.5 in /usr/local/lib/python3.10/dist-packages (from pexpect>4.3->ipython->ipython-autotime) (0.7.0)\n",
            "Requirement already satisfied: wcwidth in /usr/local/lib/python3.10/dist-packages (from prompt-toolkit!=3.0.0,!=3.0.1,<3.1.0,>=2.0.0->ipython->ipython-autotime) (0.2.8)\n",
            "Installing collected packages: jedi, ipython-autotime\n",
            "Successfully installed ipython-autotime-0.3.1 jedi-0.19.1\n",
            "time: 367 µs (started: 2023-10-08 13:27:09 +00:00)\n"
          ]
        }
      ]
    },
    {
      "cell_type": "code",
      "execution_count": null,
      "metadata": {
        "colab": {
          "base_uri": "https://localhost:8080/"
        },
        "id": "q8WiePiEYEHE",
        "outputId": "a1d0fe6d-2b2c-43cb-e024-7bdb805682c2"
      },
      "outputs": [
        {
          "output_type": "stream",
          "name": "stdout",
          "text": [
            "Collecting bing-image-downloader\n",
            "  Downloading bing_image_downloader-1.1.2-py3-none-any.whl (5.9 kB)\n",
            "Installing collected packages: bing-image-downloader\n",
            "Successfully installed bing-image-downloader-1.1.2\n",
            "time: 7.15 s (started: 2023-10-08 13:27:13 +00:00)\n"
          ]
        }
      ],
      "source": [
        "!pip install bing-image-downloader"
      ]
    },
    {
      "cell_type": "code",
      "source": [
        "!pip install PyWavelets"
      ],
      "metadata": {
        "colab": {
          "base_uri": "https://localhost:8080/"
        },
        "id": "bZNCbrqLYKsx",
        "outputId": "ecae7433-3809-4d84-ee47-d29a968463c1"
      },
      "execution_count": null,
      "outputs": [
        {
          "output_type": "stream",
          "name": "stdout",
          "text": [
            "Requirement already satisfied: PyWavelets in /usr/local/lib/python3.10/dist-packages (1.4.1)\n",
            "Requirement already satisfied: numpy>=1.17.3 in /usr/local/lib/python3.10/dist-packages (from PyWavelets) (1.23.5)\n",
            "time: 6.74 s (started: 2023-10-08 13:27:38 +00:00)\n"
          ]
        }
      ]
    },
    {
      "cell_type": "code",
      "source": [
        "!mkdir images"
      ],
      "metadata": {
        "colab": {
          "base_uri": "https://localhost:8080/"
        },
        "id": "rZ7R-55YYlnU",
        "outputId": "c05b4b36-22ae-45ef-8dd3-0fc0cc0320cb"
      },
      "execution_count": null,
      "outputs": [
        {
          "output_type": "stream",
          "name": "stdout",
          "text": [
            "time: 110 ms (started: 2023-10-08 13:27:45 +00:00)\n"
          ]
        }
      ]
    },
    {
      "cell_type": "code",
      "source": [
        "from bing_image_downloader import downloader\n",
        "downloader.download(\"pretty sunflower\",limit=70, output_dir= 'images',adult_filter_off=True)"
      ],
      "metadata": {
        "colab": {
          "base_uri": "https://localhost:8080/"
        },
        "id": "KOW3m8jyZPrP",
        "outputId": "564b75c9-9906-4412-a2b9-68a518389669"
      },
      "execution_count": null,
      "outputs": [
        {
          "output_type": "stream",
          "name": "stdout",
          "text": [
            "[%] Downloading Images to /content/images/pretty sunflower\n",
            "\n",
            "\n",
            "[!!]Indexing page: 1\n",
            "\n",
            "[%] Indexed 35 Images on Page 1.\n",
            "\n",
            "===============================================\n",
            "\n",
            "[%] Downloading Image #1 from https://preppywallpapers.com/wp-content/uploads/2019/08/Sunflower-iPhone-Wallpapers.jpg\n",
            "[%] File Downloaded !\n",
            "\n",
            "[%] Downloading Image #2 from https://www.10wallpaper.com/wallpaper/2560x1440/1802/Pretty_sunflower_flowers_plant_closeup_2560x1440.jpg\n",
            "[%] File Downloaded !\n",
            "\n",
            "[%] Downloading Image #3 from http://s1.picswalls.com/wallpapers/2014/07/17/free-sunflower-wallpaper_110754619_53.jpg\n",
            "[%] File Downloaded !\n",
            "\n",
            "[%] Downloading Image #4 from https://www.wallpapers13.com/wp-content/uploads/2015/12/Sunflower-Field-Wallpaper-Beautiful-Flowers-Pictures-Sunflower-Field-Wallpaper.jpg\n",
            "[%] File Downloaded !\n",
            "\n",
            "[%] Downloading Image #5 from http://www.wallpaperbetter.com/wallpaper/555/59/732/beautiful-sunflowers-field-2K-wallpaper.jpg\n",
            "[%] File Downloaded !\n",
            "\n",
            "[%] Downloading Image #6 from http://travelikealocalvt.com/wp-content/uploads/2014/10/sunflower-963x1024.jpg\n",
            "[%] File Downloaded !\n",
            "\n",
            "[%] Downloading Image #7 from http://2.bp.blogspot.com/-705wa8lFu_E/T2ZbNon9XcI/AAAAAAAAArU/CWNuPFDrY4Q/s1600/sunflower1.jpg\n",
            "[%] File Downloaded !\n",
            "\n",
            "[%] Downloading Image #8 from http://4.bp.blogspot.com/-Uh1HTy66p7I/TkY6vYCvWjI/AAAAAAAAD0c/ny_MXcFowLE/s1600/sunflower_wallpaper_2069.JPG\n",
            "[%] File Downloaded !\n",
            "\n",
            "[%] Downloading Image #9 from http://4.bp.blogspot.com/_W5lGWFz2VV4/TK5PqUu-ZTI/AAAAAAAAA-Q/rQXb9VnKUDc/s1600/_MG_3422+copy.jpg\n",
            "[%] File Downloaded !\n",
            "\n",
            "[%] Downloading Image #10 from https://external-preview.redd.it/19pzivrmy-sqMDGtG4WPe9STst_kGxmN9nWlHDAo3Ls.jpg?auto=webp&amp;s=946c9c34be43ae61a64ce6708c84624988182b29\n",
            "[Error]Invalid image, not saving https://external-preview.redd.it/19pzivrmy-sqMDGtG4WPe9STst_kGxmN9nWlHDAo3Ls.jpg?auto=webp&amp;s=946c9c34be43ae61a64ce6708c84624988182b29\n",
            "\n",
            "[!] Issue getting: https://external-preview.redd.it/19pzivrmy-sqMDGtG4WPe9STst_kGxmN9nWlHDAo3Ls.jpg?auto=webp&amp;s=946c9c34be43ae61a64ce6708c84624988182b29\n",
            "[!] Error:: Invalid image, not saving https://external-preview.redd.it/19pzivrmy-sqMDGtG4WPe9STst_kGxmN9nWlHDAo3Ls.jpg?auto=webp&amp;s=946c9c34be43ae61a64ce6708c84624988182b29\n",
            "\n",
            "[%] Downloading Image #10 from https://free4kwallpapers.com/uploads/originals/2020/11/08/a-pretty-sunflower.-shot-on-oneplus-pro-wallpaper_.jpg\n",
            "[%] File Downloaded !\n",
            "\n",
            "[%] Downloading Image #11 from https://images6.alphacoders.com/416/416350.jpg\n",
            "[%] File Downloaded !\n",
            "\n",
            "[%] Downloading Image #12 from http://www.flowerpicturegallery.com/d/542-1/pretty+sunflower.jpg\n",
            "[%] File Downloaded !\n",
            "\n",
            "[%] Downloading Image #13 from http://s1.picswalls.com/wallpapers/2014/07/17/sunflower-wallpaper-hd_110757863_53.jpg\n",
            "[%] File Downloaded !\n",
            "\n",
            "[%] Downloading Image #14 from http://1.bp.blogspot.com/-xIkAesKxBLA/TkY6hunS5II/AAAAAAAAD0I/S7uVZX1qf-4/s1600/sunflower_wallpaper_2064.jpg\n",
            "[%] File Downloaded !\n",
            "\n",
            "[%] Downloading Image #15 from https://www.shutterbug.com/images/photo_post/[uid]/N9010100_mod4.jpg\n",
            "[%] File Downloaded !\n",
            "\n",
            "[%] Downloading Image #16 from http://wallsdesk.com/wp-content/uploads/2017/01/Sunflower-HD-Desktop.jpg\n",
            "[%] File Downloaded !\n",
            "\n",
            "[%] Downloading Image #17 from https://images.pexels.com/photos/1169084/pexels-photo-1169084.jpeg?cs=srgb&amp;dl=nature-sunny-flowers-1169084.jpg&amp;fm=jpg\n",
            "[%] File Downloaded !\n",
            "\n",
            "[%] Downloading Image #18 from http://www.fabiovisentin.com/photography/photo/4/sun-flower_01846.jpg\n",
            "[%] File Downloaded !\n",
            "\n",
            "[%] Downloading Image #19 from http://s1.picswalls.com/wallpapers/2014/07/17/sunflower-hd_110757516_53.jpg\n",
            "[%] File Downloaded !\n",
            "\n",
            "[%] Downloading Image #20 from http://4.bp.blogspot.com/-EvQYk5Z2ISQ/TV1Y6C9VAlI/AAAAAAAAADA/0PviOUYUjU8/s1600/Sunflower.jpg\n",
            "[%] File Downloaded !\n",
            "\n",
            "[%] Downloading Image #21 from http://1.bp.blogspot.com/-S8_LPmr0LCg/UNn7RQRoEFI/AAAAAAAATJ8/xnDLf_HbCDY/s0/beautiful-sunflowers-1920x1080.jpg\n",
            "[%] File Downloaded !\n",
            "\n",
            "[%] Downloading Image #22 from https://patchoguearts.org/wp-content/uploads/Pretty-Sunflower.jpg\n",
            "[%] File Downloaded !\n",
            "\n",
            "[%] Downloading Image #23 from http://fullhdwall.com/wp-content/uploads/2020/01/Beautiful-Sunflower.jpg\n",
            "[%] File Downloaded !\n",
            "\n",
            "[%] Downloading Image #24 from https://3.bp.blogspot.com/-XpTUOHTbx8g/Ucd8U8Azp2I/AAAAAAAABPU/zzJA73GCrvw/s1600/2-pretty-sunflower-blossoms.jpg\n",
            "[%] File Downloaded !\n",
            "\n",
            "[%] Downloading Image #25 from https://2.bp.blogspot.com/-BK3D580h0T4/TlAzksARFuI/AAAAAAAAlm8/TxV8gv7lp7s/s1600/DSC_0036.JPG\n",
            "[%] File Downloaded !\n",
            "\n",
            "[%] Downloading Image #26 from https://1.bp.blogspot.com/-vuesf00axv8/WQhLlND7jdI/AAAAAAAAAfs/DDzzdZoob5offfQOex8KljHPS8isfcuWgCLcB/s1600/6.jpeg\n",
            "[%] File Downloaded !\n",
            "\n",
            "[%] Downloading Image #27 from https://4.bp.blogspot.com/-BDyLrJ3Fyq4/WQhLSVpLj2I/AAAAAAAAAfo/sKg-JL1WDMwUO0MJqgCs5XV9Bky5IPuwQCLcB/s1600/5.jpg\n",
            "[%] File Downloaded !\n",
            "\n",
            "[%] Downloading Image #28 from http://3.bp.blogspot.com/-kFLI6jc8tWY/TkY62KWkA3I/AAAAAAAAD0o/IG-GcvSZnt0/s1600/sunflower_wallpaper_2072.jpg\n",
            "[%] File Downloaded !\n",
            "\n",
            "[%] Downloading Image #29 from https://ppcdn.500px.org/42567716/1182151ec601c383204941fb05ae39e9bb73ecdb/2048.jpg\n",
            "[!] Issue getting: https://ppcdn.500px.org/42567716/1182151ec601c383204941fb05ae39e9bb73ecdb/2048.jpg\n",
            "[!] Error:: HTTP Error 403: Forbidden\n",
            "[%] Downloading Image #29 from https://wallpaper.dog/large/992268.jpg\n",
            "[%] File Downloaded !\n",
            "\n",
            "[%] Downloading Image #30 from http://upload.wikimedia.org/wikipedia/commons/b/b1/Sunflowers_in_field.jpg\n",
            "[%] File Downloaded !\n",
            "\n",
            "[%] Downloading Image #31 from https://gardentabs.com/wp-content/uploads/2020/05/Sunflower-field-in-the-Midwest-in-full-bloom-at-sunset.jpg\n",
            "[%] File Downloaded !\n",
            "\n",
            "[%] Downloading Image #32 from https://images7.alphacoders.com/903/903473.jpg\n",
            "[%] File Downloaded !\n",
            "\n",
            "[%] Downloading Image #33 from https://d2r55xnwy6nx47.cloudfront.net/uploads/2019/10/Sunflower_1300lede.jpg\n",
            "[%] File Downloaded !\n",
            "\n",
            "\n",
            "\n",
            "[!!]Indexing page: 2\n",
            "\n",
            "[%] Indexed 35 Images on Page 2.\n",
            "\n",
            "===============================================\n",
            "\n",
            "\n",
            "\n",
            "[!!]Indexing page: 3\n",
            "\n",
            "[%] Indexed 35 Images on Page 3.\n",
            "\n",
            "===============================================\n",
            "\n",
            "[%] Downloading Image #34 from https://img.sunset02.com/sites/default/files/image/royalflush1.jpg\n",
            "[%] File Downloaded !\n",
            "\n",
            "\n",
            "\n",
            "[!!]Indexing page: 4\n",
            "\n",
            "[%] Indexed 35 Images on Page 4.\n",
            "\n",
            "===============================================\n",
            "\n",
            "[%] Downloading Image #35 from https://www.setaswall.com/wp-content/uploads/2017/04/Sunflower-Wallpaper-20-2048x1365.jpg\n",
            "[%] File Downloaded !\n",
            "\n",
            "\n",
            "\n",
            "[!!]Indexing page: 5\n",
            "\n",
            "[%] Indexed 35 Images on Page 5.\n",
            "\n",
            "===============================================\n",
            "\n",
            "[%] Downloading Image #36 from https://3.bp.blogspot.com/-zdiNMBJCeuA/TkY6lQgiL6I/AAAAAAAAD0M/sM2w3Q-UKSA/s1600/sunflower_wallpaper_2065.jpg\n",
            "[%] File Downloaded !\n",
            "\n",
            "\n",
            "\n",
            "[!!]Indexing page: 6\n",
            "\n",
            "[%] Indexed 35 Images on Page 6.\n",
            "\n",
            "===============================================\n",
            "\n",
            "[%] Downloading Image #37 from https://1.bp.blogspot.com/-PybRMseCXg4/TkY63kDxTkI/AAAAAAAAD0s/caJy5o0bVik/s1600/sunflower_wallpaper_2073.JPG\n",
            "[%] File Downloaded !\n",
            "\n",
            "\n",
            "\n",
            "[!!]Indexing page: 7\n",
            "\n",
            "[%] Indexed 35 Images on Page 7.\n",
            "\n",
            "===============================================\n",
            "\n",
            "[%] Downloading Image #38 from http://1.bp.blogspot.com/-St6htmxykp0/Ucx54T74MKI/AAAAAAAAWgs/7lY3rxubt1Y/s1280/Sunflowers+Desktop+Wallpapers+%25284%2529.jpg\n",
            "[%] File Downloaded !\n",
            "\n",
            "\n",
            "\n",
            "[!!]Indexing page: 8\n",
            "\n",
            "[%] Indexed 35 Images on Page 8.\n",
            "\n",
            "===============================================\n",
            "\n",
            "[%] Downloading Image #39 from https://www.livelifeandlove.com/wp-content/uploads/2015/07/Sunflowers-1-2.jpg\n",
            "[%] File Downloaded !\n",
            "\n",
            "\n",
            "\n",
            "[!!]Indexing page: 9\n",
            "\n",
            "[%] Indexed 35 Images on Page 9.\n",
            "\n",
            "===============================================\n",
            "\n",
            "[%] Downloading Image #40 from http://4.bp.blogspot.com/-ez3HdKxSTmA/TV5PC3RW2XI/AAAAAAAAAyo/4EIqCaKsIQo/s1600/beautiful-sunflowers.jpg\n",
            "[%] File Downloaded !\n",
            "\n",
            "\n",
            "\n",
            "[!!]Indexing page: 10\n",
            "\n",
            "[%] Indexed 35 Images on Page 10.\n",
            "\n",
            "===============================================\n",
            "\n",
            "[%] Downloading Image #41 from https://moodsmania.files.wordpress.com/2012/12/silesias-sunflower1.jpg\n",
            "[Error]Invalid image, not saving https://moodsmania.files.wordpress.com/2012/12/silesias-sunflower1.jpg\n",
            "\n",
            "[!] Issue getting: https://moodsmania.files.wordpress.com/2012/12/silesias-sunflower1.jpg\n",
            "[!] Error:: Invalid image, not saving https://moodsmania.files.wordpress.com/2012/12/silesias-sunflower1.jpg\n",
            "\n",
            "\n",
            "\n",
            "[!!]Indexing page: 11\n",
            "\n",
            "[%] Indexed 35 Images on Page 11.\n",
            "\n",
            "===============================================\n",
            "\n",
            "[%] Downloading Image #41 from https://upload.wikimedia.org/wikipedia/commons/3/39/Sunflower_Helianthus_1_edited.png\n",
            "[%] File Downloaded !\n",
            "\n",
            "\n",
            "\n",
            "[!!]Indexing page: 12\n",
            "\n",
            "[%] Indexed 35 Images on Page 12.\n",
            "\n",
            "===============================================\n",
            "\n",
            "[%] Downloading Image #42 from https://eskipaper.com/images/sunflower-wallpapers-1.jpg\n",
            "[%] File Downloaded !\n",
            "\n",
            "\n",
            "\n",
            "[!!]Indexing page: 13\n",
            "\n",
            "[%] Indexed 35 Images on Page 13.\n",
            "\n",
            "===============================================\n",
            "\n",
            "[%] Downloading Image #43 from http://4.bp.blogspot.com/-tD0gtQJu3iM/TkY6rwOp6bI/AAAAAAAAD0U/xnpA1dgvqDo/s1600/sunflower_wallpaper_2067.JPG\n",
            "[%] File Downloaded !\n",
            "\n",
            "\n",
            "\n",
            "[!!]Indexing page: 14\n",
            "\n",
            "[%] Indexed 35 Images on Page 14.\n",
            "\n",
            "===============================================\n",
            "\n",
            "[%] Downloading Image #44 from https://i1.wp.com/www.funmag.org/wp-content/uploads/2017/07/sunflower-photos-6.jpg?resize=620%2C679\n",
            "[%] File Downloaded !\n",
            "\n",
            "\n",
            "\n",
            "[!!]Indexing page: 15\n",
            "\n",
            "[%] Indexed 35 Images on Page 15.\n",
            "\n",
            "===============================================\n",
            "\n",
            "[%] Downloading Image #45 from http://www.photographyblogger.net/wp-content/uploads/2010/10/sunflower2.jpg\n",
            "[!] Issue getting: http://www.photographyblogger.net/wp-content/uploads/2010/10/sunflower2.jpg\n",
            "[!] Error:: <urlopen error timed out>\n",
            "\n",
            "\n",
            "[!!]Indexing page: 16\n",
            "\n",
            "[%] Indexed 35 Images on Page 16.\n",
            "\n",
            "===============================================\n",
            "\n",
            "\n",
            "\n",
            "[!!]Indexing page: 17\n",
            "\n",
            "[%] Indexed 35 Images on Page 17.\n",
            "\n",
            "===============================================\n",
            "\n",
            "[%] Downloading Image #45 from https://wallpapercave.com/wp/wp4492431.jpg\n",
            "[%] File Downloaded !\n",
            "\n",
            "\n",
            "\n",
            "[!!]Indexing page: 18\n",
            "\n",
            "[%] Indexed 35 Images on Page 18.\n",
            "\n",
            "===============================================\n",
            "\n",
            "[%] Downloading Image #46 from http://4.bp.blogspot.com/-MoEGAPtI-qM/UfOJSve89aI/AAAAAAAAG_A/lpjsHMZo2AY/s1600/beautiful+Sun+flower+(4).jpg\n",
            "[%] File Downloaded !\n",
            "\n",
            "\n",
            "\n",
            "[!!]Indexing page: 19\n",
            "\n",
            "[%] Indexed 35 Images on Page 19.\n",
            "\n",
            "===============================================\n",
            "\n",
            "[%] Downloading Image #47 from https://4.bp.blogspot.com/-qVWsnNCMIiQ/Ucd71CH4RjI/AAAAAAAABPM/fCmZUB94CLs/s1600/2-pretty-sunflower-blossoms1.jpg\n",
            "[%] File Downloaded !\n",
            "\n",
            "\n",
            "\n",
            "[!!]Indexing page: 20\n",
            "\n",
            "[%] Indexed 35 Images on Page 20.\n",
            "\n",
            "===============================================\n",
            "\n",
            "[%] Downloading Image #48 from https://geeglenews.com/ct-geeglenews/uploads/2017/04/Sunflower-background-3287234.jpg\n",
            "[%] File Downloaded !\n",
            "\n",
            "\n",
            "\n",
            "[!!]Indexing page: 21\n",
            "\n",
            "[%] Indexed 35 Images on Page 21.\n",
            "\n",
            "===============================================\n",
            "\n",
            "[%] Downloading Image #49 from https://2.bp.blogspot.com/-YYwST_5HFi8/WZHAgOZo5RI/AAAAAAAAU_8/wbFqoYujZKciGNJy02UlFjeakuMagDAKwCLcBGAs/s640/sunflower-photos-%2B%25281%2529.jpg\n",
            "[%] File Downloaded !\n",
            "\n",
            "\n",
            "\n",
            "[!!]Indexing page: 22\n",
            "\n",
            "[%] Indexed 35 Images on Page 22.\n",
            "\n",
            "===============================================\n",
            "\n",
            "[%] Downloading Image #50 from https://farm6.staticflickr.com/5180/5520594277_c928c1214f_z.jpg\n",
            "[%] File Downloaded !\n",
            "\n",
            "\n",
            "\n",
            "[!!]Indexing page: 23\n",
            "\n",
            "[%] Indexed 35 Images on Page 23.\n",
            "\n",
            "===============================================\n",
            "\n",
            "[%] Downloading Image #51 from http://www.fabiovisentin.com/photography/photo/4/sun-flower_01828.jpg\n",
            "[%] File Downloaded !\n",
            "\n",
            "\n",
            "\n",
            "[!!]Indexing page: 24\n",
            "\n",
            "[%] Indexed 35 Images on Page 24.\n",
            "\n",
            "===============================================\n",
            "\n",
            "[%] Downloading Image #52 from http://2.bp.blogspot.com/-x9KWTogUvo4/TkvVtDPYXAI/AAAAAAAABWU/WRXCBJF29ao/w1200-h630-p-k-no-nu/Sunflowers.jpg\n",
            "[%] File Downloaded !\n",
            "\n",
            "\n",
            "\n",
            "[!!]Indexing page: 25\n",
            "\n",
            "[%] Indexed 35 Images on Page 25.\n",
            "\n",
            "===============================================\n",
            "\n",
            "[%] Downloading Image #53 from http://fullhdpictures.com/wp-content/uploads/2016/08/Sunflower-Pictures.jpg\n",
            "[!] Issue getting: http://fullhdpictures.com/wp-content/uploads/2016/08/Sunflower-Pictures.jpg\n",
            "[!] Error:: <urlopen error [Errno -3] Temporary failure in name resolution>\n",
            "\n",
            "\n",
            "[!!]Indexing page: 26\n",
            "\n",
            "[%] Indexed 35 Images on Page 26.\n",
            "\n",
            "===============================================\n",
            "\n",
            "[%] Downloading Image #53 from https://gardentabs.com/wp-content/uploads/2020/05/Beautiful-sunflower-field-during-sunset.jpg\n",
            "[%] File Downloaded !\n",
            "\n",
            "[%] Downloading Image #54 from https://3.bp.blogspot.com/--ShcPhgDlI8/UfOJYMdoxMI/AAAAAAAAG_0/pkfkiw2YE88/s1600/beautiful+Sun+flower+(9).jpg\n",
            "[%] File Downloaded !\n",
            "\n",
            "\n",
            "\n",
            "[!!]Indexing page: 27\n",
            "\n",
            "[%] Indexed 35 Images on Page 27.\n",
            "\n",
            "===============================================\n",
            "\n",
            "[%] Downloading Image #55 from http://www.lovethispic.com/uploaded_images/83509-Beautiful-Sunflower-Bouquet.jpeg\n",
            "[%] File Downloaded !\n",
            "\n",
            "\n",
            "\n",
            "[!!]Indexing page: 28\n",
            "\n",
            "[%] Indexed 35 Images on Page 28.\n",
            "\n",
            "===============================================\n",
            "\n",
            "\n",
            "\n",
            "[!!]Indexing page: 29\n",
            "\n",
            "[%] Indexed 35 Images on Page 29.\n",
            "\n",
            "===============================================\n",
            "\n",
            "[%] Downloading Image #56 from https://800003.xyz/files/funzug/imgs/walls/big/sun_flowers_wal_09.jpg\n",
            "[%] File Downloaded !\n",
            "\n",
            "\n",
            "\n",
            "[!!]Indexing page: 30\n",
            "\n",
            "[%] Indexed 35 Images on Page 30.\n",
            "\n",
            "===============================================\n",
            "\n",
            "[%] Downloading Image #57 from http://1.bp.blogspot.com/-fprU226cTVg/UbFvoXRPyjI/AAAAAAAAAVY/vdHNDX1M6jc/s1600/sunflowers_in_the_field_meadow_nature_blue_sky-hd-wallpaper-332372.jpg\n",
            "[%] File Downloaded !\n",
            "\n",
            "\n",
            "\n",
            "[!!]Indexing page: 31\n",
            "\n",
            "[%] Indexed 35 Images on Page 31.\n",
            "\n",
            "===============================================\n",
            "\n",
            "[%] Downloading Image #58 from https://eskipaper.com/images/lovely-sunflower-wallpaper-1.jpg\n",
            "[%] File Downloaded !\n",
            "\n",
            "\n",
            "\n",
            "[!!]Indexing page: 32\n",
            "\n",
            "[%] Indexed 35 Images on Page 32.\n",
            "\n",
            "===============================================\n",
            "\n",
            "[%] Downloading Image #59 from https://www.wallpaperflare.com/static/878/332/47/sunflowers-clouds-flowers-nature-wallpaper.jpg\n",
            "[%] File Downloaded !\n",
            "\n",
            "\n",
            "\n",
            "[!!]Indexing page: 33\n",
            "\n",
            "[%] Indexed 35 Images on Page 33.\n",
            "\n",
            "===============================================\n",
            "\n",
            "[%] Downloading Image #60 from https://www.wallpapers13.com/wp-content/uploads/2015/12/Sunflower-Field-Wallpaper-Beautiful-Flowers-Pictures-Sunflower-Field-Wallpaper-1680x1050.jpg\n",
            "[%] File Downloaded !\n",
            "\n",
            "\n",
            "\n",
            "[!!]Indexing page: 34\n",
            "\n",
            "[%] Indexed 35 Images on Page 34.\n",
            "\n",
            "===============================================\n",
            "\n",
            "[%] Downloading Image #61 from https://live.staticflickr.com/65535/48272811492_11cfbd2ff6_b.jpg\n",
            "[%] File Downloaded !\n",
            "\n",
            "\n",
            "\n",
            "[!!]Indexing page: 35\n",
            "\n",
            "[%] Indexed 35 Images on Page 35.\n",
            "\n",
            "===============================================\n",
            "\n",
            "[%] Downloading Image #62 from http://www.incrediblesnaps.com/wp-content/uploads/2013/11/Beautiful-Pictures-of-Sunflowers-4.jpg\n",
            "[%] File Downloaded !\n",
            "\n",
            "[%] Downloading Image #63 from https://1.bp.blogspot.com/-pxLGDjQnfxs/UfOJUzOc5tI/AAAAAAAAG_Q/i7neJOH1i0k/s1600/beautiful+Sun+flower+(6).jpg\n",
            "[%] File Downloaded !\n",
            "\n",
            "\n",
            "\n",
            "[!!]Indexing page: 36\n",
            "\n",
            "[%] Indexed 35 Images on Page 36.\n",
            "\n",
            "===============================================\n",
            "\n",
            "[%] Downloading Image #64 from https://i.pinimg.com/736x/66/b9/f3/66b9f358282e3b1f10a928ad6607bfe8--summer-loving-flower-photography.jpg\n",
            "[%] File Downloaded !\n",
            "\n",
            "\n",
            "\n",
            "[!!]Indexing page: 37\n",
            "\n",
            "[%] Indexed 35 Images on Page 37.\n",
            "\n",
            "===============================================\n",
            "\n",
            "\n",
            "\n",
            "[!!]Indexing page: 38\n",
            "\n",
            "[%] Indexed 35 Images on Page 38.\n",
            "\n",
            "===============================================\n",
            "\n",
            "[%] Downloading Image #65 from https://eskipaper.com/images/sunflower-pictures-4.jpg\n",
            "[%] File Downloaded !\n",
            "\n",
            "\n",
            "\n",
            "[!!]Indexing page: 39\n",
            "\n",
            "[%] Indexed 35 Images on Page 39.\n",
            "\n",
            "===============================================\n",
            "\n",
            "\n",
            "\n",
            "[!!]Indexing page: 40\n",
            "\n",
            "[%] Indexed 35 Images on Page 40.\n",
            "\n",
            "===============================================\n",
            "\n",
            "[%] Downloading Image #66 from https://2.bp.blogspot.com/-rlXVC6uspkM/UqaIS8FQZWI/AAAAAAAAPso/TKNvuT6Y0jQ/s1600/Beautiful+Sunflower.jpg\n",
            "[%] File Downloaded !\n",
            "\n",
            "[%] Downloading Image #67 from https://3.bp.blogspot.com/-gCFQlSZYY_Q/VQmMnU-TkDI/AAAAAAAAE1M/Ip3e1eCKiA0/s1600/211551%2BBeautiful%2BSunflower%2BField%2BHD%2BWallpaperz%2B1552552.jpg\n",
            "[%] File Downloaded !\n",
            "\n",
            "\n",
            "\n",
            "[!!]Indexing page: 41\n",
            "\n",
            "[%] Indexed 35 Images on Page 41.\n",
            "\n",
            "===============================================\n",
            "\n",
            "[%] Downloading Image #68 from http://upload.wikimedia.org/wikipedia/commons/a/a9/A_sunflower.jpg\n",
            "[%] File Downloaded !\n",
            "\n",
            "\n",
            "\n",
            "[!!]Indexing page: 42\n",
            "\n",
            "[%] Indexed 35 Images on Page 42.\n",
            "\n",
            "===============================================\n",
            "\n",
            "[%] Downloading Image #69 from http://img.xcitefun.net/users/2014/07/361675,xcitefun-sunflower-3.jpg\n",
            "[%] File Downloaded !\n",
            "\n",
            "\n",
            "\n",
            "[!!]Indexing page: 43\n",
            "\n",
            "[%] Indexed 35 Images on Page 43.\n",
            "\n",
            "===============================================\n",
            "\n",
            "\n",
            "\n",
            "[!!]Indexing page: 44\n",
            "\n",
            "[%] Indexed 35 Images on Page 44.\n",
            "\n",
            "===============================================\n",
            "\n",
            "[%] Downloading Image #70 from http://3.bp.blogspot.com/-7cbbZE8DfZI/UfbfqWnbtbI/AAAAAAAABM8/A8B-CtgJ8so/s1600/Sunflower-1-3.jpg\n",
            "[%] File Downloaded !\n",
            "\n",
            "\n",
            "\n",
            "[%] Done. Downloaded 70 images.\n",
            "time: 2min 3s (started: 2023-10-08 13:27:45 +00:00)\n"
          ]
        }
      ]
    },
    {
      "cell_type": "code",
      "source": [
        "\n",
        "downloader.download(\"rugby ball leather\",limit=70, output_dir= 'images',adult_filter_off=True)"
      ],
      "metadata": {
        "colab": {
          "base_uri": "https://localhost:8080/"
        },
        "id": "_g-98H3SanGq",
        "outputId": "e2d5f042-d9e1-4dc0-de81-ce517785056e"
      },
      "execution_count": null,
      "outputs": [
        {
          "output_type": "stream",
          "name": "stdout",
          "text": [
            "[%] Downloading Images to /content/images/rugby ball leather\n",
            "\n",
            "\n",
            "[!!]Indexing page: 1\n",
            "\n",
            "[%] Indexed 35 Images on Page 1.\n",
            "\n",
            "===============================================\n",
            "\n",
            "[%] Downloading Image #1 from https://cdn.shopify.com/s/files/1/0788/5979/products/mvp-leather-balls-heritage-leather-rugby-ball-1_2356x.jpg?v=1550134680\n",
            "[%] File Downloaded !\n",
            "\n",
            "[%] Downloading Image #2 from https://cdn.shopify.com/s/files/1/0788/5979/products/mvp-leather-balls-heritage-leather-rugby-ball-2_2048x.jpg?v=1561783613\n",
            "[%] File Downloaded !\n",
            "\n",
            "[%] Downloading Image #3 from https://cdn.shopify.com/s/files/1/0788/5979/products/mvp-leather-balls-brown-cream-leather-rugby-ball-1_2048x.jpg?v=1550134649\n",
            "[%] File Downloaded !\n",
            "\n",
            "[%] Downloading Image #4 from http://www.kraveantiques.co.uk/images/products/Brown-Rugby-Ball-1455-12.jpg\n",
            "[%] File Downloaded !\n",
            "\n",
            "[%] Downloading Image #5 from https://cdn.notonthehighstreet.com/fs/66/7f/caf0-7c5a-45fa-a436-44b52ec027a6/original_ram-rugby-vintage-leather-rugby-ball.jpg\n",
            "[%] File Downloaded !\n",
            "\n",
            "[%] Downloading Image #6 from https://cdn-s3.touchofmodern.com/products/001/323/791/747ec1b9d79741dfdc64e98bedc689fc_large.jpg?1544121098\n",
            "[%] File Downloaded !\n",
            "\n",
            "[%] Downloading Image #7 from https://cdn.shopify.com/s/files/1/0226/2169/products/Chromexcel_2048x2048_V1_1024x1024.jpg?v=1511272698\n",
            "[%] File Downloaded !\n",
            "\n",
            "[%] Downloading Image #8 from https://i.pinimg.com/originals/8a/04/21/8a04218bea6666686b6258c88b64cd92.jpg\n",
            "[%] File Downloaded !\n",
            "\n",
            "[%] Downloading Image #9 from https://cdn-s3.touchofmodern.com/products/001/323/796/e46cdde2e60a6c3e6efb510cde0da461_large.jpg?1544121098\n",
            "[%] File Downloaded !\n",
            "\n",
            "[%] Downloading Image #10 from https://cdn.shopify.com/s/files/1/0788/5979/products/mvp-leather-balls-brown-cream-leather-rugby-ball-2_2048x.jpg?v=1550134649\n",
            "[%] File Downloaded !\n",
            "\n",
            "[%] Downloading Image #11 from https://cdn.notonthehighstreet.com/system/product_images/images/001/380/249/original_hand-sewn-leather-rugby-ball.jpg\n",
            "[%] File Downloaded !\n",
            "\n",
            "[%] Downloading Image #12 from http://images.esellerpro.com/2718/I/876/62/GIL-82001001 New.jpg\n",
            "[!] Issue getting: http://images.esellerpro.com/2718/I/876/62/GIL-82001001 New.jpg\n",
            "[!] Error:: URL can't contain control characters. '/2718/I/876/62/GIL-82001001 New.jpg' (found at least ' ')\n",
            "[%] Downloading Image #12 from https://a.1stdibscdn.com/antique-leather-rugby-ball-for-sale/f_9757/1542010524354/27322_master.jpg?width=768\n",
            "[%] File Downloaded !\n",
            "\n",
            "[%] Downloading Image #13 from https://cdn.notonthehighstreet.com/system/product_images/images/000/441/248/original_SUM11-005-i.jpg\n",
            "[%] File Downloaded !\n",
            "\n",
            "[%] Downloading Image #14 from https://2.imimg.com/data2/CM/KH/MY-2811504/leather-rugby-ball-500x500.jpg\n",
            "[%] File Downloaded !\n",
            "\n",
            "[%] Downloading Image #15 from https://sportantiques.co.uk/pub/media/catalog/product/2/5/sportantiques-351538286645.jpg\n",
            "[Error]Invalid image, not saving https://sportantiques.co.uk/pub/media/catalog/product/2/5/sportantiques-351538286645.jpg\n",
            "\n",
            "[!] Issue getting: https://sportantiques.co.uk/pub/media/catalog/product/2/5/sportantiques-351538286645.jpg\n",
            "[!] Error:: Invalid image, not saving https://sportantiques.co.uk/pub/media/catalog/product/2/5/sportantiques-351538286645.jpg\n",
            "\n",
            "[%] Downloading Image #15 from https://i.pinimg.com/736x/0d/e6/fe/0de6fe27c1acf0aa355218a4e58c34ce--garden-games-real-leather.jpg\n",
            "[%] File Downloaded !\n",
            "\n",
            "[%] Downloading Image #16 from https://cdn.notonthehighstreet.com/system/product_images/images/000/393/351/original_CF016852.jpg\n",
            "[%] File Downloaded !\n",
            "\n",
            "[%] Downloading Image #17 from https://www.ruckfield.com/media/catalog/product/cache/2/image/3000x/040ec09b1e35df139433887a97daa66f/1/8/18e_h0004143_099_face.jpg\n",
            "[%] File Downloaded !\n",
            "\n",
            "[%] Downloading Image #18 from https://cdn.shopify.com/s/files/1/0020/1025/1324/products/Vitnage_Brown_Leather_Rugby_Ball_36fcfbe7-d899-4540-9aa6-80ce8e2a0168_1024x1024.jpg?v=1554242167\n",
            "[%] File Downloaded !\n",
            "\n",
            "[%] Downloading Image #19 from https://cdn.notonthehighstreet.com/fs/b5/3e/6ccd-c899-432f-8fa0-b66e26dd8de2/original_personalised-vintage-leather-rugby-ball.jpg\n",
            "[%] File Downloaded !\n",
            "\n",
            "[%] Downloading Image #20 from http://www.kraveantiques.co.uk/images/products/Leather-Rugby-Ball-958-1.jpg\n",
            "[%] File Downloaded !\n",
            "\n",
            "[%] Downloading Image #21 from https://cdn.notonthehighstreet.com/fs/f4/9c/bd3e-1b18-42c6-8afd-49041811df46/original_personalised-vintage-leather-rugby-ball.jpg\n",
            "[%] File Downloaded !\n",
            "\n",
            "[%] Downloading Image #22 from https://cdn7.bigcommerce.com/s-qyj0hft1gc/products/16696/images/56219/leather_rugby_ball__91837.1526288991.1280.1280.jpg?c=2\n",
            "[%] File Downloaded !\n",
            "\n",
            "[%] Downloading Image #23 from https://cdn.shopify.com/s/files/1/0226/2169/collections/CXLRugby60002.jpg?v=1456244018\n",
            "[%] File Downloaded !\n",
            "\n",
            "[%] Downloading Image #24 from http://img.auctiva.com/imgdata/9/3/4/5/4/4/webimg/666799573_o.jpg\n",
            "[%] File Downloaded !\n",
            "\n",
            "[%] Downloading Image #25 from http://www.kraveantiques.co.uk/images/products/Leather-Rugby-Ball-958-3.jpg\n",
            "[%] File Downloaded !\n",
            "\n",
            "[%] Downloading Image #26 from https://cdn.notonthehighstreet.com/fs/83/da/2b8a-30e0-45a8-8866-89c0ad0b3057/original_vintage-leather-rugby-ball.jpg\n",
            "[%] File Downloaded !\n",
            "\n",
            "[%] Downloading Image #27 from http://www.kraveantiques.co.uk/images/products/1950s-Rugby-Ball-1189-1.jpg\n",
            "[%] File Downloaded !\n",
            "\n",
            "[%] Downloading Image #28 from https://cdn.shopify.com/s/files/1/0269/2284/4257/products/emglandleatherball2_1200x.png?v=1601120783\n",
            "[%] File Downloaded !\n",
            "\n",
            "[%] Downloading Image #29 from https://cdn.shopify.com/s/files/1/0226/2169/products/Chromexcel_2048x2048_V4_1024x1024.jpg?v=1557338502\n",
            "[%] File Downloaded !\n",
            "\n",
            "[%] Downloading Image #30 from https://cdn.notonthehighstreet.com/fs/9f/5f/3921-ace3-4afb-97e3-11f75747dce4/original_personalised-vintage-leather-rugby-ball.jpg\n",
            "[%] File Downloaded !\n",
            "\n",
            "[%] Downloading Image #31 from https://homebarnshop.co.uk/wp-content/uploads/2017/11/fullsizeoutput_2028-e1510939138773.jpeg\n",
            "[%] File Downloaded !\n",
            "\n",
            "[%] Downloading Image #32 from https://sportantiques.co.uk/pub/media/catalog/product/2/5/sportantiques-388204978308.jpg\n",
            "[Error]Invalid image, not saving https://sportantiques.co.uk/pub/media/catalog/product/2/5/sportantiques-388204978308.jpg\n",
            "\n",
            "[!] Issue getting: https://sportantiques.co.uk/pub/media/catalog/product/2/5/sportantiques-388204978308.jpg\n",
            "[!] Error:: Invalid image, not saving https://sportantiques.co.uk/pub/media/catalog/product/2/5/sportantiques-388204978308.jpg\n",
            "\n",
            "[%] Downloading Image #32 from https://cdn.shopify.com/s/files/1/1244/8362/products/17_10_16_JK14_024.jpg?v=1516576152\n",
            "[%] File Downloaded !\n",
            "\n",
            "\n",
            "\n",
            "[!!]Indexing page: 2\n",
            "\n",
            "[%] Indexed 35 Images on Page 2.\n",
            "\n",
            "===============================================\n",
            "\n",
            "\n",
            "\n",
            "[!!]Indexing page: 3\n",
            "\n",
            "[%] Indexed 35 Images on Page 3.\n",
            "\n",
            "===============================================\n",
            "\n",
            "[%] Downloading Image #33 from https://i.etsystatic.com/13030334/r/il/91ae66/1023428249/il_794xN.1023428249_tmnr.jpg\n",
            "[%] File Downloaded !\n",
            "\n",
            "\n",
            "\n",
            "[!!]Indexing page: 4\n",
            "\n",
            "[%] Indexed 35 Images on Page 4.\n",
            "\n",
            "===============================================\n",
            "\n",
            "[%] Downloading Image #34 from http://skbassansports.com/wp-content/uploads/2019/01/DSC_0183-copy.png\n",
            "[%] File Downloaded !\n",
            "\n",
            "\n",
            "\n",
            "[!!]Indexing page: 5\n",
            "\n",
            "[%] Indexed 35 Images on Page 5.\n",
            "\n",
            "===============================================\n",
            "\n",
            "[%] Downloading Image #35 from https://cdn.shopify.com/s/files/1/0788/5979/products/mvp-leather-balls-heritage-leather-rugby-ball-2_800x.jpg?v=1561783613\n",
            "[%] File Downloaded !\n",
            "\n",
            "\n",
            "\n",
            "[!!]Indexing page: 6\n",
            "\n",
            "[%] Indexed 35 Images on Page 6.\n",
            "\n",
            "===============================================\n",
            "\n",
            "[%] Downloading Image #36 from https://cdn.shopify.com/s/files/1/0788/5979/products/mvp-leather-balls-heritage-leather-rugby-ball-1_800x.jpg?v=1561783613\n",
            "[%] File Downloaded !\n",
            "\n",
            "\n",
            "\n",
            "[!!]Indexing page: 7\n",
            "\n",
            "[%] Indexed 35 Images on Page 7.\n",
            "\n",
            "===============================================\n",
            "\n",
            "\n",
            "\n",
            "[!!]Indexing page: 8\n",
            "\n",
            "[%] Indexed 35 Images on Page 8.\n",
            "\n",
            "===============================================\n",
            "\n",
            "[%] Downloading Image #37 from https://cdn.shopify.com/s/files/1/0226/2169/products/B_T_2048x2048_V1.jpg?v=1511272515\n",
            "[%] File Downloaded !\n",
            "\n",
            "[%] Downloading Image #38 from https://i.pinimg.com/originals/4b/4d/5f/4b4d5fbc7f85067dbb49251f3a5a2a21.png\n",
            "[%] File Downloaded !\n",
            "\n",
            "[%] Downloading Image #39 from https://sportantiques.co.uk/pub/media/catalog/product/2/5/sportantiques-388204978313.jpg\n",
            "[Error]Invalid image, not saving https://sportantiques.co.uk/pub/media/catalog/product/2/5/sportantiques-388204978313.jpg\n",
            "\n",
            "[!] Issue getting: https://sportantiques.co.uk/pub/media/catalog/product/2/5/sportantiques-388204978313.jpg\n",
            "[!] Error:: Invalid image, not saving https://sportantiques.co.uk/pub/media/catalog/product/2/5/sportantiques-388204978313.jpg\n",
            "\n",
            "\n",
            "\n",
            "[!!]Indexing page: 9\n",
            "\n",
            "[%] Indexed 35 Images on Page 9.\n",
            "\n",
            "===============================================\n",
            "\n",
            "\n",
            "\n",
            "[!!]Indexing page: 10\n",
            "\n",
            "[%] Indexed 35 Images on Page 10.\n",
            "\n",
            "===============================================\n",
            "\n",
            "[%] Downloading Image #39 from https://www.ruckfield.com/media/catalog/product/cache/2/image/3000x/040ec09b1e35df139433887a97daa66f/1/5/15h_h0002174_066_face.jpg\n",
            "[%] File Downloaded !\n",
            "\n",
            "[%] Downloading Image #40 from https://cdn.shopify.com/s/files/1/1244/8362/products/17_10_16_JK14_025.jpg?v=1516576162\n",
            "[%] File Downloaded !\n",
            "\n",
            "\n",
            "\n",
            "[!!]Indexing page: 11\n",
            "\n",
            "[%] Indexed 35 Images on Page 11.\n",
            "\n",
            "===============================================\n",
            "\n",
            "[%] Downloading Image #41 from https://img.clasf.co.za/2020/04/11/Limited-Edition-World-Champions-Leather-Rugby-Ball-20200411150147.9640850015.jpg\n",
            "[%] File Downloaded !\n",
            "\n",
            "\n",
            "\n",
            "[!!]Indexing page: 12\n",
            "\n",
            "[%] Indexed 35 Images on Page 12.\n",
            "\n",
            "===============================================\n",
            "\n",
            "\n",
            "\n",
            "[!!]Indexing page: 13\n",
            "\n",
            "[%] Indexed 35 Images on Page 13.\n",
            "\n",
            "===============================================\n",
            "\n",
            "[%] Downloading Image #42 from https://cdn-s3.touchofmodern.com/products/001/323/793/d0d610878fe1f624a4e47614a860e200_large.jpg?1544121098\n",
            "[%] File Downloaded !\n",
            "\n",
            "[%] Downloading Image #43 from https://cdn.shopify.com/s/files/1/0068/0227/6407/products/2600_20RAAA13_2082001205_20Ball_20Leather_20Vint_20Dk_20Tan_20Sz5_1900x.jpg?v=1569300151\n",
            "[%] File Downloaded !\n",
            "\n",
            "[%] Downloading Image #44 from https://i.pinimg.com/originals/0d/e6/fe/0de6fe27c1acf0aa355218a4e58c34ce.jpg\n",
            "[%] File Downloaded !\n",
            "\n",
            "[%] Downloading Image #45 from https://cdn.shopify.com/s/files/1/0226/2169/products/Chromexcel_2048x2048_V2.jpg?v=1511272699\n",
            "[%] File Downloaded !\n",
            "\n",
            "[%] Downloading Image #46 from https://cdn.shopify.com/s/files/1/0269/2284/4257/products/allblackvintagerugbyball_1200x.png?v=1601122831\n",
            "[%] File Downloaded !\n",
            "\n",
            "[%] Downloading Image #47 from https://littleandco.co.za/wp-content/uploads/2022/04/8C5C0B3E-CEED-4738-BE2B-1CDE0A8AE6B1.jpeg\n",
            "[%] File Downloaded !\n",
            "\n",
            "[%] Downloading Image #48 from https://cdn.notonthehighstreet.com/fs/cb/ff/79c1-6f8d-4b44-8516-8bc8ea2511e0/original_personalised-vintage-leather-rugby-ball.jpg\n",
            "[%] File Downloaded !\n",
            "\n",
            "[%] Downloading Image #49 from https://cdn.notonthehighstreet.com/fs/1a/8c/ed41-bd3d-42a8-8d25-9fc8a3ed4dd9/original_personalised-vintage-leather-rugby-ball.jpg\n",
            "[%] File Downloaded !\n",
            "\n",
            "[%] Downloading Image #50 from https://sportantiques.co.uk/pub/media/catalog/product/2/5/sportantiques-388204978312.jpg\n",
            "[Error]Invalid image, not saving https://sportantiques.co.uk/pub/media/catalog/product/2/5/sportantiques-388204978312.jpg\n",
            "\n",
            "[!] Issue getting: https://sportantiques.co.uk/pub/media/catalog/product/2/5/sportantiques-388204978312.jpg\n",
            "[!] Error:: Invalid image, not saving https://sportantiques.co.uk/pub/media/catalog/product/2/5/sportantiques-388204978312.jpg\n",
            "\n",
            "[%] Downloading Image #50 from https://a.1stdibscdn.com/original-vintage-leather-rugby-ball-with-6-panels-for-sale/1121189/f_161686811571203319261/16168681_master.jpg?width=768\n",
            "[%] File Downloaded !\n",
            "\n",
            "[%] Downloading Image #51 from http://cdn1.bigcommerce.com/server1000/4dd02/products/682/images/3492/_MG_0374v2__78298.1332357807.1280.1280.jpg\n",
            "[!] Issue getting: http://cdn1.bigcommerce.com/server1000/4dd02/products/682/images/3492/_MG_0374v2__78298.1332357807.1280.1280.jpg\n",
            "[!] Error:: HTTP Error 404: Not Found\n",
            "[%] Downloading Image #51 from http://skbassansports.com/wp-content/uploads/2019/01/DSC_0173-copy.png\n",
            "[%] File Downloaded !\n",
            "\n",
            "[%] Downloading Image #52 from https://m.media-amazon.com/images/I/61GK0Ca2SGL._AC_UL1000_.jpg\n",
            "[%] File Downloaded !\n",
            "\n",
            "[%] Downloading Image #53 from http://cdn.shopify.com/s/files/1/0226/2169/products/0a2d5b467c23e50338e0cf0824978c72_1024x1024.jpg?v=1459274944\n",
            "[%] File Downloaded !\n",
            "\n",
            "[%] Downloading Image #54 from https://webassets.cyranecloud.com/morrant/prde5ee1472-828d-4733-9669-57d67d15a8f0.jpg\n",
            "[%] File Downloaded !\n",
            "\n",
            "[%] Downloading Image #55 from http://ceefc02649d25ca315ac-ef93c2ad0985f7464ef79b04e64427fa.r18.cf2.rackcdn.com/product_images/3600/Rugby2.jpg\n",
            "[%] File Downloaded !\n",
            "\n",
            "[%] Downloading Image #56 from https://cdn.notonthehighstreet.com/fs/e5/1d/4b1c-1e89-4c03-844e-d2869158b54e/original_vintage-leather-rugby-ball-full-size-hand-sewn.jpg\n",
            "[%] File Downloaded !\n",
            "\n",
            "[%] Downloading Image #57 from https://www.allsportvintage.com/831-thickbox_default/vintage-leather-8-sided-rugby-ball.jpg\n",
            "[%] File Downloaded !\n",
            "\n",
            "[%] Downloading Image #58 from https://2.imimg.com/data2/LM/RQ/MY-2811504/leather-rugby-ball-500x500.jpg\n",
            "[%] File Downloaded !\n",
            "\n",
            "[%] Downloading Image #59 from https://s3.amazonaws.com/sportinggifts/products/opt1/800/47660.jpg\n",
            "[%] File Downloaded !\n",
            "\n",
            "[%] Downloading Image #60 from http://kathykuohome.com/Content/config/product/primary/zoom/product_4496.jpg\n",
            "[%] File Downloaded !\n",
            "\n",
            "\n",
            "\n",
            "[!!]Indexing page: 14\n",
            "\n",
            "[%] Indexed 35 Images on Page 14.\n",
            "\n",
            "===============================================\n",
            "\n",
            "[%] Downloading Image #61 from https://cdn.shopify.com/s/files/1/0788/5979/products/mvp-leather-balls-heritage-leather-rugby-ball-2_1024x1024.jpg?v=1550134680\n",
            "[%] File Downloaded !\n",
            "\n",
            "[%] Downloading Image #62 from https://cdn.shopify.com/s/files/1/0226/2169/products/Chromexcel_2048x2048_V1_760x.jpg?v=1511272698'\n",
            "[%] File Downloaded !\n",
            "\n",
            "[%] Downloading Image #63 from https://cdn.shopify.com/s/files/1/0788/5979/products/mvp-leather-balls-brown-cream-leather-rugby-ball-2_800x.jpg?v=1550134649\n",
            "[%] File Downloaded !\n",
            "\n",
            "\n",
            "\n",
            "[!!]Indexing page: 15\n",
            "\n",
            "[%] Indexed 35 Images on Page 15.\n",
            "\n",
            "===============================================\n",
            "\n",
            "\n",
            "\n",
            "[!!]Indexing page: 16\n",
            "\n",
            "[%] Indexed 35 Images on Page 16.\n",
            "\n",
            "===============================================\n",
            "\n",
            "[%] Downloading Image #64 from http://cdn.notonthehighstreet.com/system/product_images/images/000/640/511/original_IMG_4159.jpg\n",
            "[%] File Downloaded !\n",
            "\n",
            "[%] Downloading Image #65 from https://img.carters.com.au/95202c0ce4e2d953b333c41961b8c6cb.jpg\n",
            "[%] File Downloaded !\n",
            "\n",
            "[%] Downloading Image #66 from https://cdn.notonthehighstreet.com/fs/75/b1/52b4-9321-480d-bfc9-9115b07ed634/original_personalised-vintage-leather-rugby-ball.jpg\n",
            "[%] File Downloaded !\n",
            "\n",
            "\n",
            "\n",
            "[!!]Indexing page: 17\n",
            "\n",
            "[%] Indexed 35 Images on Page 17.\n",
            "\n",
            "===============================================\n",
            "\n",
            "[%] Downloading Image #67 from https://cdn.notonthehighstreet.com/fs/14/cb/45f8-4377-4358-9cc0-36c127d448d0/original_personalised-vintage-leather-rugby-ball.jpg\n",
            "[%] File Downloaded !\n",
            "\n",
            "\n",
            "\n",
            "[!!]Indexing page: 18\n",
            "\n",
            "[%] Indexed 35 Images on Page 18.\n",
            "\n",
            "===============================================\n",
            "\n",
            "\n",
            "\n",
            "[!!]Indexing page: 19\n",
            "\n",
            "[%] Indexed 35 Images on Page 19.\n",
            "\n",
            "===============================================\n",
            "\n",
            "[%] Downloading Image #68 from https://sportantiques.co.uk/pub/media/catalog/product/2/5/sportantiques-388204978306.jpg\n",
            "[Error]Invalid image, not saving https://sportantiques.co.uk/pub/media/catalog/product/2/5/sportantiques-388204978306.jpg\n",
            "\n",
            "[!] Issue getting: https://sportantiques.co.uk/pub/media/catalog/product/2/5/sportantiques-388204978306.jpg\n",
            "[!] Error:: Invalid image, not saving https://sportantiques.co.uk/pub/media/catalog/product/2/5/sportantiques-388204978306.jpg\n",
            "\n",
            "[%] Downloading Image #68 from https://cdn.notonthehighstreet.com/fs/8e/6f/c0bd-fa16-47d0-ab6b-467b1dfcbf2f/original_vintage-leather-rugby-ball-keyring.jpg\n",
            "[%] File Downloaded !\n",
            "\n",
            "[%] Downloading Image #69 from http://i.ebayimg.com/00/s/MjUwWDE5Ng==/z/H3cAAOxyYSdS-zH9/$_3.JPG?set_id=2\n",
            "[%] File Downloaded !\n",
            "\n",
            "\n",
            "\n",
            "[!!]Indexing page: 20\n",
            "\n",
            "[%] Indexed 35 Images on Page 20.\n",
            "\n",
            "===============================================\n",
            "\n",
            "\n",
            "\n",
            "[!!]Indexing page: 21\n",
            "\n",
            "[%] Indexed 35 Images on Page 21.\n",
            "\n",
            "===============================================\n",
            "\n",
            "[%] Downloading Image #70 from https://2.imimg.com/data2/XI/WN/MY-2811504/leather-rugby-ball-1000x1000.jpg\n",
            "[%] File Downloaded !\n",
            "\n",
            "\n",
            "\n",
            "[%] Done. Downloaded 70 images.\n",
            "time: 58 s (started: 2023-10-08 13:29:49 +00:00)\n"
          ]
        }
      ]
    },
    {
      "cell_type": "code",
      "source": [
        "\n",
        "downloader.download(\"ice cream cone\",limit=70, output_dir= 'images',adult_filter_off=True)"
      ],
      "metadata": {
        "colab": {
          "base_uri": "https://localhost:8080/"
        },
        "id": "EFMs57nSb40o",
        "outputId": "5091c57e-d295-4087-b554-fa95043dd17d"
      },
      "execution_count": null,
      "outputs": [
        {
          "output_type": "stream",
          "name": "stdout",
          "text": [
            "[%] Downloading Images to /content/images/ice cream cone\n",
            "\n",
            "\n",
            "[!!]Indexing page: 1\n",
            "\n",
            "[%] Indexed 35 Images on Page 1.\n",
            "\n",
            "===============================================\n",
            "\n",
            "[%] Downloading Image #1 from http://cdiabetes.com/wp-content/uploads/2014/07/ice-cream-cone.jpg\n",
            "[%] File Downloaded !\n",
            "\n",
            "[%] Downloading Image #2 from http://mariamindbodyhealth.com/wp-content/uploads/2011/05/ice-cream-cone.jpg\n",
            "[%] File Downloaded !\n",
            "\n",
            "[%] Downloading Image #3 from http://3.bp.blogspot.com/-GndwOmlhJQ4/VZKmtT3vBCI/AAAAAAAAK4M/gSkEmA0LmS8/s1600/Ice_cream_cone.jpg\n",
            "[%] File Downloaded !\n",
            "\n",
            "[%] Downloading Image #4 from http://1.bp.blogspot.com/_iH1J16C6uo4/THwLya412kI/AAAAAAAAAtQ/P6zvogvwwXk/s1600/993icecream_cone.jpg\n",
            "[%] File Downloaded !\n",
            "\n",
            "[%] Downloading Image #5 from http://images2.fanpop.com/images/photos/6300000/Ice-Cream-Cone-Wallpaper-ice-cream-6333735-1024-768.jpg\n",
            "[%] File Downloaded !\n",
            "\n",
            "[%] Downloading Image #6 from http://mfg.regionaldirectory.us/ice-cream-cone-600.jpg\n",
            "[!] Issue getting: http://mfg.regionaldirectory.us/ice-cream-cone-600.jpg\n",
            "[!] Error:: <urlopen error [SSL: CERTIFICATE_VERIFY_FAILED] certificate verify failed: certificate has expired (_ssl.c:1007)>\n",
            "[%] Downloading Image #6 from https://images.freeimages.com/images/premium/previews/3080/3080129-vanilla-ice-cream-cone.jpg\n",
            "[%] File Downloaded !\n",
            "\n",
            "[%] Downloading Image #7 from http://www.camdenac.com/wp-content/uploads/2017/05/7-scoop-ice-cream-cone.jpg\n",
            "[Error]Invalid image, not saving http://www.camdenac.com/wp-content/uploads/2017/05/7-scoop-ice-cream-cone.jpg\n",
            "\n",
            "[!] Issue getting: http://www.camdenac.com/wp-content/uploads/2017/05/7-scoop-ice-cream-cone.jpg\n",
            "[!] Error:: Invalid image, not saving http://www.camdenac.com/wp-content/uploads/2017/05/7-scoop-ice-cream-cone.jpg\n",
            "\n",
            "[%] Downloading Image #7 from http://www.tomclarkphoto.com/archive/wp-content/uploads/2018/07/ice-cream-cone.jpg\n",
            "[%] File Downloaded !\n",
            "\n",
            "[%] Downloading Image #8 from https://upload.wikimedia.org/wikipedia/commons/8/86/Ice_cream_cone.jpg\n",
            "[%] File Downloaded !\n",
            "\n",
            "[%] Downloading Image #9 from http://www.madeupinbritain.uk/britimages/IceCreamCone.jpg\n",
            "[%] File Downloaded !\n",
            "\n",
            "[%] Downloading Image #10 from http://www.publicdomainpictures.net/pictures/210000/velka/ice-cream-cone-1486145225scH.jpg\n",
            "[%] File Downloaded !\n",
            "\n",
            "[%] Downloading Image #11 from http://clipart-library.com/images/rcjrn8rLi.jpg\n",
            "[%] File Downloaded !\n",
            "\n",
            "[%] Downloading Image #12 from http://www.jeffreyolsen.com/wp-content/uploads/2012/01/ice-cream-cone-scoops-0709-de.jpg\n",
            "[%] File Downloaded !\n",
            "\n",
            "[%] Downloading Image #13 from http://annelubnerdesigns.com/w/wp-content/uploads/2010/03/Ice_cream_cone1.jpg\n",
            "[%] File Downloaded !\n",
            "\n",
            "[%] Downloading Image #14 from http://shewearsmanyhats.com/wp-content/uploads/2013/07/dipped-ice-cream-cones-7.jpg\n",
            "[%] File Downloaded !\n",
            "\n",
            "[%] Downloading Image #15 from http://www.kitcheninnovationsinc.com/wp-content/uploads/2014/07/J218DISP-Ice-Cream.png\n",
            "[%] File Downloaded !\n",
            "\n",
            "[%] Downloading Image #16 from http://blog.timesunion.com/healthyprofessor/files/2011/03/ice-cream-cone.jpg\n",
            "[%] File Downloaded !\n",
            "\n",
            "[%] Downloading Image #17 from http://www.oexmann.com/upload/produkte/xl/7.png\n",
            "[!] Issue getting: http://www.oexmann.com/upload/produkte/xl/7.png\n",
            "[!] Error:: HTTP Error 404: Not Found\n",
            "[%] Downloading Image #17 from https://2.bp.blogspot.com/-F3gVYgswpwk/TaO0wEm2ybI/AAAAAAAACBk/-oWSEnlMOSo/s320/ice+cream+cone.jpg\n",
            "[%] File Downloaded !\n",
            "\n",
            "[%] Downloading Image #18 from https://www.printablee.com/postpic/2010/05/ice-cream-cone-printable_397759.jpg\n",
            "[%] File Downloaded !\n",
            "\n",
            "[%] Downloading Image #19 from http://cdn.sheknows.com/articles/2012/02/isolated-vanilla-ice-cream-cone.jpg\n",
            "[%] File Downloaded !\n",
            "\n",
            "[%] Downloading Image #20 from https://www.publicdomainpictures.net/pictures/180000/velka/ice-cream-in-a-cone.jpg\n",
            "[%] File Downloaded !\n",
            "\n",
            "[%] Downloading Image #21 from https://upload.wikimedia.org/wikipedia/commons/d/da/Strawberry_ice_cream_cone_(5076899310).jpg\n",
            "[%] File Downloaded !\n",
            "\n",
            "[%] Downloading Image #22 from http://4.bp.blogspot.com/-DQlW2o-caGE/UWf_zXG5W_I/AAAAAAAABa0/yuTYvIaP0hc/s1600/ice-cream-cone-4650355-ji.jpg\n",
            "[%] File Downloaded !\n",
            "\n",
            "[%] Downloading Image #23 from http://sweets.seriouseats.com/images/2013/01/20130201-rocky-road-primary.jpg\n",
            "[Error]Invalid image, not saving http://sweets.seriouseats.com/images/2013/01/20130201-rocky-road-primary.jpg\n",
            "\n",
            "[!] Issue getting: http://sweets.seriouseats.com/images/2013/01/20130201-rocky-road-primary.jpg\n",
            "[!] Error:: Invalid image, not saving http://sweets.seriouseats.com/images/2013/01/20130201-rocky-road-primary.jpg\n",
            "\n",
            "[%] Downloading Image #23 from https://img.thrfun.com/img/023/254/ice_cream_cone_fancy2.jpg\n",
            "[%] File Downloaded !\n",
            "\n",
            "[%] Downloading Image #24 from https://images.freeimages.com/images/premium/previews/1703/17038360-ice-cream-cone.jpg\n",
            "[%] File Downloaded !\n",
            "\n",
            "[%] Downloading Image #25 from https://4.bp.blogspot.com/-nWmK42rlhgI/UbHF2piCS4I/AAAAAAAASg8/Rf1wkLJEGXw/s1600/iceCREAMcone.jpg\n",
            "[%] File Downloaded !\n",
            "\n",
            "[%] Downloading Image #26 from https://procaffenation.com/wp-content/uploads/2017/04/21-compressor-1.jpg\n",
            "[%] File Downloaded !\n",
            "\n",
            "[%] Downloading Image #27 from https://image.freepik.com/free-photo/ice-cream-cones_1101-962.jpg\n",
            "[%] File Downloaded !\n",
            "\n",
            "[%] Downloading Image #28 from https://2.bp.blogspot.com/-XpQB-S5EzCw/TutpxIpVf4I/AAAAAAAAARE/VYrGd7FUc8A/s1600/ice+cream+cones.jpg\n",
            "[%] File Downloaded !\n",
            "\n",
            "[%] Downloading Image #29 from http://www.thatsmycake.net/wp-content/uploads/image-import/_I9eB7WpcPXc/SiSQzr6WreI/AAAAAAAAAGo/ykx_4Ochjz4/s1600-h/cones1.jpg\n",
            "[%] File Downloaded !\n",
            "\n",
            "[%] Downloading Image #30 from https://lifesizestatue.com/images/largeicecreamconestatue_130021m-h.jpg\n",
            "[%] File Downloaded !\n",
            "\n",
            "[%] Downloading Image #31 from https://www.psdmockups.com/wp-content/uploads/2016/09/Ice-Cream-Cone-Drumstick-PSD-Mockup.jpg\n",
            "[%] File Downloaded !\n",
            "\n",
            "\n",
            "\n",
            "[!!]Indexing page: 2\n",
            "\n",
            "[%] Indexed 35 Images on Page 2.\n",
            "\n",
            "===============================================\n",
            "\n",
            "\n",
            "\n",
            "[!!]Indexing page: 3\n",
            "\n",
            "[%] Indexed 35 Images on Page 3.\n",
            "\n",
            "===============================================\n",
            "\n",
            "[%] Downloading Image #32 from https://img.rawpixel.com/s3fs-private/rawpixel_images/website_content/is12873-image-kwyse1qe.jpg?w=1200&amp;h=1200&amp;dpr=1&amp;fit=clip&amp;crop=default&amp;fm=jpg&amp;q=75&amp;vib=3&amp;con=3&amp;usm=15&amp;cs=srgb&amp;bg=F4F4F3&amp;ixlib=js-2.2.1&amp;s=737b26f791c29c077ccd01d88b1e2848\n",
            "[!] Issue getting: https://img.rawpixel.com/s3fs-private/rawpixel_images/website_content/is12873-image-kwyse1qe.jpg?w=1200&amp;h=1200&amp;dpr=1&amp;fit=clip&amp;crop=default&amp;fm=jpg&amp;q=75&amp;vib=3&amp;con=3&amp;usm=15&amp;cs=srgb&amp;bg=F4F4F3&amp;ixlib=js-2.2.1&amp;s=737b26f791c29c077ccd01d88b1e2848\n",
            "[!] Error:: HTTP Error 403: Forbidden\n",
            "\n",
            "\n",
            "[!!]Indexing page: 4\n",
            "\n",
            "[%] Indexed 35 Images on Page 4.\n",
            "\n",
            "===============================================\n",
            "\n",
            "[%] Downloading Image #32 from https://thumbs.dreamstime.com/z/ice-cream-cone-5965428.jpg\n",
            "[%] File Downloaded !\n",
            "\n",
            "\n",
            "\n",
            "[!!]Indexing page: 5\n",
            "\n",
            "[%] Indexed 35 Images on Page 5.\n",
            "\n",
            "===============================================\n",
            "\n",
            "[%] Downloading Image #33 from http://www.come-home-to-health.com/resources/ice-cream-cone-2-lrg.jpg\n",
            "[%] File Downloaded !\n",
            "\n",
            "\n",
            "\n",
            "[!!]Indexing page: 6\n",
            "\n",
            "[%] Indexed 35 Images on Page 6.\n",
            "\n",
            "===============================================\n",
            "\n",
            "[%] Downloading Image #34 from http://4.bp.blogspot.com/-71-5uQvE6-U/TfJ8TKkwe-I/AAAAAAAABP0/A_D1j8mN6CI/s1600/menu_ice_cream_cone.jpg\n",
            "[%] File Downloaded !\n",
            "\n",
            "\n",
            "\n",
            "[!!]Indexing page: 7\n",
            "\n",
            "[%] Indexed 35 Images on Page 7.\n",
            "\n",
            "===============================================\n",
            "\n",
            "[%] Downloading Image #35 from https://www.besthealthmag.ca/wp-content/uploads/sites/16/2016/01/ice-cream-cone.jpg\n",
            "[%] File Downloaded !\n",
            "\n",
            "\n",
            "\n",
            "[!!]Indexing page: 8\n",
            "\n",
            "[%] Indexed 35 Images on Page 8.\n",
            "\n",
            "===============================================\n",
            "\n",
            "[%] Downloading Image #36 from http://www.publicdomainpictures.net/pictures/180000/velka/ice-cream-in-a-cone.jpg\n",
            "[%] File Downloaded !\n",
            "\n",
            "[%] Downloading Image #37 from https://cdnimg.webstaurantstore.com/images/products/extra_large/67189/506952.jpg\n",
            "[%] File Downloaded !\n",
            "\n",
            "[%] Downloading Image #38 from https://joywbennett.com/wp-content/uploads/2012/10/ice-cream-cone.jpg\n",
            "[!] Issue getting: https://joywbennett.com/wp-content/uploads/2012/10/ice-cream-cone.jpg\n",
            "[!] Error:: HTTP Error 403: Forbidden\n",
            "\n",
            "\n",
            "[!!]Indexing page: 9\n",
            "\n",
            "[%] Indexed 35 Images on Page 9.\n",
            "\n",
            "===============================================\n",
            "\n",
            "\n",
            "\n",
            "[!!]Indexing page: 10\n",
            "\n",
            "[%] Indexed 35 Images on Page 10.\n",
            "\n",
            "===============================================\n",
            "\n",
            "\n",
            "\n",
            "[!!]Indexing page: 11\n",
            "\n",
            "[%] Indexed 35 Images on Page 11.\n",
            "\n",
            "===============================================\n",
            "\n",
            "[%] Downloading Image #38 from http://www.yarntomato.com/images/projects/misc/cone_mintchocchip.jpg\n",
            "[%] File Downloaded !\n",
            "\n",
            "[%] Downloading Image #39 from https://picfiles.alphacoders.com/365/365169.jpg\n",
            "[%] File Downloaded !\n",
            "\n",
            "\n",
            "\n",
            "[!!]Indexing page: 12\n",
            "\n",
            "[%] Indexed 35 Images on Page 12.\n",
            "\n",
            "===============================================\n",
            "\n",
            "[%] Downloading Image #40 from https://hugelolcdn.com/i/521707.jpg\n",
            "[%] File Downloaded !\n",
            "\n",
            "\n",
            "\n",
            "[!!]Indexing page: 13\n",
            "\n",
            "[%] Indexed 35 Images on Page 13.\n",
            "\n",
            "===============================================\n",
            "\n",
            "[%] Downloading Image #41 from https://img3.exportersindia.com/product_images/bc-small/dir_111/3324159/ice-cream-cones-2216982.jpg\n",
            "[%] File Downloaded !\n",
            "\n",
            "\n",
            "\n",
            "[!!]Indexing page: 14\n",
            "\n",
            "[%] Indexed 35 Images on Page 14.\n",
            "\n",
            "===============================================\n",
            "\n",
            "[%] Downloading Image #42 from https://www.funcage.com/blog/wp-content/uploads/2013/07/Ice-Cream-Cones-039.jpg\n",
            "[%] File Downloaded !\n",
            "\n",
            "\n",
            "\n",
            "[!!]Indexing page: 15\n",
            "\n",
            "[%] Indexed 35 Images on Page 15.\n",
            "\n",
            "===============================================\n",
            "\n",
            "[%] Downloading Image #43 from https://images.freeimages.com/images/premium/previews/3308/33087960-ice-cream-cone.jpg\n",
            "[%] File Downloaded !\n",
            "\n",
            "\n",
            "\n",
            "[!!]Indexing page: 16\n",
            "\n",
            "[%] Indexed 0 Images on Page 16.\n",
            "\n",
            "===============================================\n",
            "\n",
            "\n",
            "\n",
            "[!!]Indexing page: 17\n",
            "\n",
            "[%] Indexed 35 Images on Page 17.\n",
            "\n",
            "===============================================\n",
            "\n",
            "[%] Downloading Image #44 from http://wikiclipart.com/wp-content/uploads/2017/02/Ice-cream-cone-ice-cream-no-cone-clipart-clipartfest.png\n",
            "[%] File Downloaded !\n",
            "\n",
            "[%] Downloading Image #45 from http://1.bp.blogspot.com/-PTn7RXqN8G8/UUjzNaBCEEI/AAAAAAAAV6U/FN4YBtoDcvI/s1600/ice+cream+cone02.jpg\n",
            "[%] File Downloaded !\n",
            "\n",
            "\n",
            "\n",
            "[!!]Indexing page: 18\n",
            "\n",
            "[%] Indexed 35 Images on Page 18.\n",
            "\n",
            "===============================================\n",
            "\n",
            "[%] Downloading Image #46 from https://piximus.net/media/22188/ice-cream-cones-53.jpg\n",
            "[%] File Downloaded !\n",
            "\n",
            "\n",
            "\n",
            "[!!]Indexing page: 19\n",
            "\n",
            "[%] Indexed 35 Images on Page 19.\n",
            "\n",
            "===============================================\n",
            "\n",
            "[%] Downloading Image #47 from https://images.freeimages.com/images/premium/previews/1744/17440485-ice-cream-cone.jpg\n",
            "[%] File Downloaded !\n",
            "\n",
            "\n",
            "\n",
            "[!!]Indexing page: 20\n",
            "\n",
            "[%] Indexed 35 Images on Page 20.\n",
            "\n",
            "===============================================\n",
            "\n",
            "[%] Downloading Image #48 from https://famousfidorescue.org/wp-content/uploads/2021/01/Ice-cream-cone_3-scaled.jpeg\n",
            "[%] File Downloaded !\n",
            "\n",
            "\n",
            "\n",
            "[!!]Indexing page: 21\n",
            "\n",
            "[%] Indexed 35 Images on Page 21.\n",
            "\n",
            "===============================================\n",
            "\n",
            "\n",
            "\n",
            "[!!]Indexing page: 22\n",
            "\n",
            "[%] Indexed 35 Images on Page 22.\n",
            "\n",
            "===============================================\n",
            "\n",
            "\n",
            "\n",
            "[!!]Indexing page: 23\n",
            "\n",
            "[%] Indexed 35 Images on Page 23.\n",
            "\n",
            "===============================================\n",
            "\n",
            "[%] Downloading Image #49 from https://lifesizestatue.com/images/softserveicecreamstatue_icejr0054h.jpg\n",
            "[%] File Downloaded !\n",
            "\n",
            "\n",
            "\n",
            "[!!]Indexing page: 24\n",
            "\n",
            "[%] Indexed 35 Images on Page 24.\n",
            "\n",
            "===============================================\n",
            "\n",
            "[%] Downloading Image #50 from https://www.printablee.com/postpic/2010/05/ice-cream-cone-printable_397757.jpg\n",
            "[%] File Downloaded !\n",
            "\n",
            "[%] Downloading Image #51 from https://thumbs.dreamstime.com/z/chocolate-ice-cream-cone-2419391.jpg\n",
            "[%] File Downloaded !\n",
            "\n",
            "\n",
            "\n",
            "[!!]Indexing page: 25\n",
            "\n",
            "[%] Indexed 35 Images on Page 25.\n",
            "\n",
            "===============================================\n",
            "\n",
            "\n",
            "\n",
            "[!!]Indexing page: 26\n",
            "\n",
            "[%] Indexed 0 Images on Page 26.\n",
            "\n",
            "===============================================\n",
            "\n",
            "\n",
            "\n",
            "[!!]Indexing page: 27\n",
            "\n",
            "[%] Indexed 35 Images on Page 27.\n",
            "\n",
            "===============================================\n",
            "\n",
            "[%] Downloading Image #52 from http://southshoretreats.com/images/ice_cream_cone.jpg\n",
            "[%] File Downloaded !\n",
            "\n",
            "[%] Downloading Image #53 from https://images.freeimages.com/images/premium/previews/1076/10763370-ice-cream-cone.jpg\n",
            "[%] File Downloaded !\n",
            "\n",
            "[%] Downloading Image #54 from http://www.keepitsweet.co.uk/images/Ice-Cream-Cones-Foam-1CAN-FOA-ICC.jpg\n",
            "[%] File Downloaded !\n",
            "\n",
            "\n",
            "\n",
            "[!!]Indexing page: 28\n",
            "\n",
            "[%] Indexed 35 Images on Page 28.\n",
            "\n",
            "===============================================\n",
            "\n",
            "\n",
            "\n",
            "[!!]Indexing page: 29\n",
            "\n",
            "[%] Indexed 35 Images on Page 29.\n",
            "\n",
            "===============================================\n",
            "\n",
            "[%] Downloading Image #55 from http://img.21food.com/20110609/product/1306417618307.jpg\n",
            "[%] File Downloaded !\n",
            "\n",
            "[%] Downloading Image #56 from https://media1.popsugar-assets.com/files/thumbor/X57YjJv7dt2-NREpF4m7lic2658/fit-in/728xorig/filters:format_auto-!!-:strip_icc-!!-/users/1/15259/25_2007/IMG_0542_0/i/Ice-Cream-Cones.JPG\n",
            "[%] File Downloaded !\n",
            "\n",
            "\n",
            "\n",
            "[!!]Indexing page: 30\n",
            "\n",
            "[%] Indexed 35 Images on Page 30.\n",
            "\n",
            "===============================================\n",
            "\n",
            "[%] Downloading Image #57 from https://c.stocksy.com/a/oxh000/za/169000.jpg\n",
            "[%] File Downloaded !\n",
            "\n",
            "\n",
            "\n",
            "[!!]Indexing page: 31\n",
            "\n",
            "[%] Indexed 35 Images on Page 31.\n",
            "\n",
            "===============================================\n",
            "\n",
            "[%] Downloading Image #58 from http://sweetclipart.com/multisite/sweetclipart/files/ice_cream_cone_neopolitan_sprinkles_cherry.png\n",
            "[%] File Downloaded !\n",
            "\n",
            "\n",
            "\n",
            "[!!]Indexing page: 32\n",
            "\n",
            "[%] Indexed 35 Images on Page 32.\n",
            "\n",
            "===============================================\n",
            "\n",
            "[%] Downloading Image #59 from https://thumbs.dreamstime.com/z/ice-cream-cone-15367478.jpg\n",
            "[%] File Downloaded !\n",
            "\n",
            "\n",
            "\n",
            "[!!]Indexing page: 33\n",
            "\n",
            "[%] Indexed 35 Images on Page 33.\n",
            "\n",
            "===============================================\n",
            "\n",
            "[%] Downloading Image #60 from https://www.sparkpeople.com/news/genericpictures/BigPictures/ice_cream_cone_dessert.jpg\n",
            "[!] Issue getting: https://www.sparkpeople.com/news/genericpictures/BigPictures/ice_cream_cone_dessert.jpg\n",
            "[!] Error:: <urlopen error [SSL: CERTIFICATE_VERIFY_FAILED] certificate verify failed: unable to get local issuer certificate (_ssl.c:1007)>\n",
            "\n",
            "\n",
            "[!!]Indexing page: 34\n",
            "\n",
            "[%] Indexed 35 Images on Page 34.\n",
            "\n",
            "===============================================\n",
            "\n",
            "[%] Downloading Image #60 from http://3.bp.blogspot.com/-XupBLj27ZWM/VDwoo5Ksg-I/AAAAAAAAWAE/PiWe4yXRlY4/s1600/ice_cream_cone.jpg\n",
            "[%] File Downloaded !\n",
            "\n",
            "[%] Downloading Image #61 from https://thumbs.dreamstime.com/z/ice-cream-cone-8737635.jpg\n",
            "[%] File Downloaded !\n",
            "\n",
            "\n",
            "\n",
            "[!!]Indexing page: 35\n",
            "\n",
            "[%] Indexed 35 Images on Page 35.\n",
            "\n",
            "===============================================\n",
            "\n",
            "[%] Downloading Image #62 from http://4.bp.blogspot.com/-htAaOJCYR1s/UdUE-1zAIrI/AAAAAAAABlA/kSWXS-Nsbho/s1600/ice+cream+cone.jpg\n",
            "[%] File Downloaded !\n",
            "\n",
            "\n",
            "\n",
            "[!!]Indexing page: 36\n",
            "\n",
            "[%] Indexed 35 Images on Page 36.\n",
            "\n",
            "===============================================\n",
            "\n",
            "[%] Downloading Image #63 from https://thumbs.dreamstime.com/z/ice-cream-cone-1554241.jpg\n",
            "[%] File Downloaded !\n",
            "\n",
            "\n",
            "\n",
            "[!!]Indexing page: 37\n",
            "\n",
            "[%] Indexed 35 Images on Page 37.\n",
            "\n",
            "===============================================\n",
            "\n",
            "[%] Downloading Image #64 from https://www.printablee.com/postpic/2010/05/ice-cream-cone-patterns_397755.png\n",
            "[%] File Downloaded !\n",
            "\n",
            "\n",
            "\n",
            "[!!]Indexing page: 38\n",
            "\n",
            "[%] Indexed 35 Images on Page 38.\n",
            "\n",
            "===============================================\n",
            "\n",
            "\n",
            "\n",
            "[!!]Indexing page: 39\n",
            "\n",
            "[%] Indexed 35 Images on Page 39.\n",
            "\n",
            "===============================================\n",
            "\n",
            "[%] Downloading Image #65 from http://thedecoratedcookie.com/wp-content/uploads/2012/01/icecream1b1.jpg\n",
            "[%] File Downloaded !\n",
            "\n",
            "\n",
            "\n",
            "[!!]Indexing page: 40\n",
            "\n",
            "[%] Indexed 35 Images on Page 40.\n",
            "\n",
            "===============================================\n",
            "\n",
            "\n",
            "\n",
            "[!!]Indexing page: 41\n",
            "\n",
            "[%] Indexed 35 Images on Page 41.\n",
            "\n",
            "===============================================\n",
            "\n",
            "[%] Downloading Image #66 from https://i.redd.it/8anomqjulqx01.jpg\n",
            "[Error]Invalid image, not saving https://i.redd.it/8anomqjulqx01.jpg\n",
            "\n",
            "[!] Issue getting: https://i.redd.it/8anomqjulqx01.jpg\n",
            "[!] Error:: Invalid image, not saving https://i.redd.it/8anomqjulqx01.jpg\n",
            "\n",
            "\n",
            "\n",
            "[!!]Indexing page: 42\n",
            "\n",
            "[%] Indexed 35 Images on Page 42.\n",
            "\n",
            "===============================================\n",
            "\n",
            "[%] Downloading Image #66 from https://www.clker.com/cliparts/f/4/1/e/13074380501217459384ice cream cones-hi.png\n",
            "[!] Issue getting: https://www.clker.com/cliparts/f/4/1/e/13074380501217459384ice cream cones-hi.png\n",
            "[!] Error:: URL can't contain control characters. '/cliparts/f/4/1/e/13074380501217459384ice cream cones-hi.png' (found at least ' ')\n",
            "[%] Downloading Image #66 from http://image.shutterstock.com/z/stock-photo-ice-cream-cone-275894414.jpg\n",
            "[%] File Downloaded !\n",
            "\n",
            "\n",
            "\n",
            "[!!]Indexing page: 43\n",
            "\n",
            "[%] Indexed 35 Images on Page 43.\n",
            "\n",
            "===============================================\n",
            "\n",
            "[%] Downloading Image #67 from https://media.gettyimages.com/photos/ice-cream-cones-picture-id174689973?s=170667a\n",
            "[%] File Downloaded !\n",
            "\n",
            "\n",
            "\n",
            "[!!]Indexing page: 44\n",
            "\n",
            "[%] Indexed 35 Images on Page 44.\n",
            "\n",
            "===============================================\n",
            "\n",
            "\n",
            "\n",
            "[!!]Indexing page: 45\n",
            "\n",
            "[%] Indexed 35 Images on Page 45.\n",
            "\n",
            "===============================================\n",
            "\n",
            "[%] Downloading Image #68 from http://www.goingpostalt-shirts.com/~skelley/webasyst_files/published/publicdata/SKELLEYPOSTAL/attachments/SC/products_pictures/IceCreamCones_enl.jpg\n",
            "[%] File Downloaded !\n",
            "\n",
            "\n",
            "\n",
            "[!!]Indexing page: 46\n",
            "\n",
            "[%] Indexed 35 Images on Page 46.\n",
            "\n",
            "===============================================\n",
            "\n",
            "[%] Downloading Image #69 from https://theselby.com/media/Ice-Cream-Cone_Nolita.jpg\n",
            "[%] File Downloaded !\n",
            "\n",
            "\n",
            "\n",
            "[!!]Indexing page: 47\n",
            "\n",
            "[%] Indexed 35 Images on Page 47.\n",
            "\n",
            "===============================================\n",
            "\n",
            "[%] Downloading Image #70 from https://sparkpeo.hs.llnwd.net/e1/resize/600w/assets/resource/slideshow/ice cream cone.jpg\n",
            "[!] Issue getting: https://sparkpeo.hs.llnwd.net/e1/resize/600w/assets/resource/slideshow/ice cream cone.jpg\n",
            "[!] Error:: URL can't contain control characters. '/e1/resize/600w/assets/resource/slideshow/ice cream cone.jpg' (found at least ' ')\n",
            "\n",
            "\n",
            "[!!]Indexing page: 48\n",
            "\n",
            "[%] Indexed 35 Images on Page 48.\n",
            "\n",
            "===============================================\n",
            "\n",
            "[%] Downloading Image #70 from https://tattoogrid.net/wp-content/uploads/2019/09/Ice-cream-cone-by-Chinatown-Stropky.jpg\n",
            "[%] File Downloaded !\n",
            "\n",
            "\n",
            "\n",
            "[%] Done. Downloaded 70 images.\n",
            "time: 45.3 s (started: 2023-10-08 13:30:47 +00:00)\n"
          ]
        }
      ]
    },
    {
      "cell_type": "code",
      "source": [
        "#how i convert two dimension into one dimensin this can be done with the flaten methd"
      ],
      "metadata": {
        "colab": {
          "base_uri": "https://localhost:8080/"
        },
        "id": "Xt4TgmQ6ewhq",
        "outputId": "018670c6-6c92-4651-ee4f-b53290b8ef41"
      },
      "execution_count": null,
      "outputs": [
        {
          "output_type": "stream",
          "name": "stdout",
          "text": [
            "time: 418 µs (started: 2023-10-08 13:31:32 +00:00)\n"
          ]
        }
      ]
    },
    {
      "cell_type": "code",
      "source": [
        "#preprocessing\n",
        "import os\n",
        "import matplotlib.pyplot as plt\n",
        "import numpy as np\n",
        "from skimage.io import imread\n",
        "from skimage.transform import resize\n",
        "target=[]\n",
        "images=[]\n",
        "flat_data=[]\n",
        "\n",
        "DATADIR='/content/images'\n",
        "CATEGORIES=['pretty sunflower','rugby ball leather','ice cream cone']\n",
        "for category in CATEGORIES:\n",
        "  class_num =CATEGORIES.index(category) #lable encoding values\n",
        "  path=os.path.join(DATADIR,category) #create path to use all the images\n",
        "\n",
        "  for img in os.listdir(path):\n",
        "    img_array=imread(os.path.join(path,img))\n",
        "\n",
        "    img_resized=resize(img_array,(120,120,3)) #normalizes the value form o\n",
        "    flat_data.append(img_resized)\n",
        "    images.append(img_resized)\n",
        "    target.append(class_num)\n",
        "\n",
        "\n",
        "flat_data=np.array(flat_data)\n",
        "target=np.array(target)\n",
        "images=np.array(images)\n",
        "\n"
      ],
      "metadata": {
        "colab": {
          "base_uri": "https://localhost:8080/"
        },
        "id": "_ksnBWzQcbq7",
        "outputId": "77598d34-d0ee-483a-e2b9-d389bb201059"
      },
      "execution_count": null,
      "outputs": [
        {
          "output_type": "stream",
          "name": "stderr",
          "text": [
            "/usr/local/lib/python3.10/dist-packages/PIL/Image.py:996: UserWarning: Palette images with Transparency expressed in bytes should be converted to RGBA images\n",
            "  warnings.warn(\n"
          ]
        },
        {
          "output_type": "stream",
          "name": "stdout",
          "text": [
            "time: 2min 21s (started: 2023-10-08 13:31:32 +00:00)\n"
          ]
        }
      ]
    },
    {
      "cell_type": "code",
      "source": [
        "#preprocessing\n",
        "#1.resize 2.flatten\n",
        "\n",
        "flat_data[0]"
      ],
      "metadata": {
        "colab": {
          "base_uri": "https://localhost:8080/"
        },
        "id": "UcSntP55gGJv",
        "outputId": "4aa6446f-26ca-4d89-e596-d239ff3e7eb5"
      },
      "execution_count": null,
      "outputs": [
        {
          "output_type": "execute_result",
          "data": {
            "text/plain": [
              "array([[[0.20267479, 0.3065603 , 0.28497525],\n",
              "        [0.1850426 , 0.28543239, 0.25182648],\n",
              "        [0.18620737, 0.2751809 , 0.24460585],\n",
              "        ...,\n",
              "        [0.14232977, 0.24101103, 0.09590971],\n",
              "        [0.09067469, 0.15895223, 0.06992098],\n",
              "        [0.05617557, 0.09958814, 0.04969893]],\n",
              "\n",
              "       [[0.19249432, 0.29759342, 0.26900885],\n",
              "        [0.18252597, 0.27741636, 0.25018477],\n",
              "        [0.18946161, 0.26949654, 0.24417852],\n",
              "        ...,\n",
              "        [0.16811298, 0.2744251 , 0.10575962],\n",
              "        [0.1068175 , 0.191957  , 0.07665386],\n",
              "        [0.06976469, 0.12378119, 0.05625496]],\n",
              "\n",
              "       [[0.18518584, 0.29315541, 0.26060178],\n",
              "        [0.18328036, 0.28099957, 0.25630957],\n",
              "        [0.19286991, 0.27778941, 0.2514567 ],\n",
              "        ...,\n",
              "        [0.19535586, 0.30827791, 0.12186085],\n",
              "        [0.13029329, 0.2293604 , 0.09076768],\n",
              "        [0.08955188, 0.15465216, 0.06937313]],\n",
              "\n",
              "       ...,\n",
              "\n",
              "       [[0.07781585, 0.11822542, 0.06464498],\n",
              "        [0.07858521, 0.10788213, 0.0557272 ],\n",
              "        [0.06784656, 0.10130305, 0.05702957],\n",
              "        ...,\n",
              "        [0.75712179, 0.82208231, 0.6835214 ],\n",
              "        [0.73538225, 0.79812238, 0.66401163],\n",
              "        [0.73666262, 0.79490269, 0.67505738]],\n",
              "\n",
              "       [[0.00907926, 0.0174901 , 0.01561347],\n",
              "        [0.03989425, 0.05373428, 0.03589579],\n",
              "        [0.04673741, 0.06814095, 0.03938263],\n",
              "        ...,\n",
              "        [0.74941881, 0.81626211, 0.6738568 ],\n",
              "        [0.737028  , 0.80110144, 0.66463937],\n",
              "        [0.73903312, 0.79898157, 0.67725474]],\n",
              "\n",
              "       [[0.00996002, 0.01798596, 0.0132437 ],\n",
              "        [0.03351317, 0.04339954, 0.02880201],\n",
              "        [0.04263496, 0.06046647, 0.03597668],\n",
              "        ...,\n",
              "        [0.73622446, 0.80576365, 0.66023078],\n",
              "        [0.73731869, 0.80448705, 0.66492508],\n",
              "        [0.73713971, 0.79897874, 0.676465  ]]])"
            ]
          },
          "metadata": {},
          "execution_count": 10
        },
        {
          "output_type": "stream",
          "name": "stdout",
          "text": [
            "time: 6.26 ms (started: 2023-10-08 13:33:54 +00:00)\n"
          ]
        }
      ]
    },
    {
      "cell_type": "code",
      "source": [
        "target\n"
      ],
      "metadata": {
        "colab": {
          "base_uri": "https://localhost:8080/"
        },
        "id": "y9keRz_LsvT7",
        "outputId": "206beace-1313-419a-d6cb-af3356c22f4e"
      },
      "execution_count": null,
      "outputs": [
        {
          "output_type": "execute_result",
          "data": {
            "text/plain": [
              "array([0, 0, 0, 0, 0, 0, 0, 0, 0, 0, 0, 0, 0, 0, 0, 0, 0, 0, 0, 0, 0, 0,\n",
              "       0, 0, 0, 0, 0, 0, 0, 0, 0, 0, 0, 0, 0, 0, 0, 0, 0, 0, 0, 0, 0, 0,\n",
              "       0, 0, 0, 0, 0, 0, 0, 0, 0, 0, 0, 0, 0, 0, 0, 0, 0, 0, 0, 0, 0, 0,\n",
              "       0, 0, 0, 0, 1, 1, 1, 1, 1, 1, 1, 1, 1, 1, 1, 1, 1, 1, 1, 1, 1, 1,\n",
              "       1, 1, 1, 1, 1, 1, 1, 1, 1, 1, 1, 1, 1, 1, 1, 1, 1, 1, 1, 1, 1, 1,\n",
              "       1, 1, 1, 1, 1, 1, 1, 1, 1, 1, 1, 1, 1, 1, 1, 1, 1, 1, 1, 1, 1, 1,\n",
              "       1, 1, 1, 1, 1, 1, 1, 1, 2, 2, 2, 2, 2, 2, 2, 2, 2, 2, 2, 2, 2, 2,\n",
              "       2, 2, 2, 2, 2, 2, 2, 2, 2, 2, 2, 2, 2, 2, 2, 2, 2, 2, 2, 2, 2, 2,\n",
              "       2, 2, 2, 2, 2, 2, 2, 2, 2, 2, 2, 2, 2, 2, 2, 2, 2, 2, 2, 2, 2, 2,\n",
              "       2, 2, 2, 2, 2, 2, 2, 2, 2, 2, 2, 2])"
            ]
          },
          "metadata": {},
          "execution_count": 11
        },
        {
          "output_type": "stream",
          "name": "stdout",
          "text": [
            "time: 5.26 ms (started: 2023-10-08 13:33:54 +00:00)\n"
          ]
        }
      ]
    },
    {
      "cell_type": "code",
      "source": [
        "unique,count=np.unique(target,return_counts=True)\n",
        "plt.bar(CATEGORIES,count)"
      ],
      "metadata": {
        "colab": {
          "base_uri": "https://localhost:8080/",
          "height": 466
        },
        "id": "2HLgaocbszIk",
        "outputId": "656e2b35-d635-4171-d7de-a99c645768c7"
      },
      "execution_count": null,
      "outputs": [
        {
          "output_type": "execute_result",
          "data": {
            "text/plain": [
              "<BarContainer object of 3 artists>"
            ]
          },
          "metadata": {},
          "execution_count": 12
        },
        {
          "output_type": "display_data",
          "data": {
            "text/plain": [
              "<Figure size 640x480 with 1 Axes>"
            ],
            "image/png": "[encoded data removed]"
          },
          "metadata": {}
        },
        {
          "output_type": "stream",
          "name": "stdout",
          "text": [
            "time: 231 ms (started: 2023-10-08 13:33:54 +00:00)\n"
          ]
        }
      ]
    },
    {
      "cell_type": "code",
      "source": [
        "# split data into traning and testing"
      ],
      "metadata": {
        "colab": {
          "base_uri": "https://localhost:8080/"
        },
        "id": "LTSmRWuvtF1-",
        "outputId": "c01d0f53-01b8-42bf-f6ad-407440ccd32c"
      },
      "execution_count": null,
      "outputs": [
        {
          "output_type": "stream",
          "name": "stdout",
          "text": [
            "time: 392 µs (started: 2023-10-08 13:33:54 +00:00)\n"
          ]
        }
      ]
    },
    {
      "cell_type": "code",
      "source": [
        "from sklearn.model_selection import train_test_split\n",
        "x_train,x_test ,y_train ,y_test =train_test_split(flat_data,target,test_size=0.3,random_state=109)"
      ],
      "metadata": {
        "colab": {
          "base_uri": "https://localhost:8080/"
        },
        "id": "PQbhKUI5td5i",
        "outputId": "4f1678b8-3726-41cb-e0aa-8b235a5b6776"
      },
      "execution_count": null,
      "outputs": [
        {
          "output_type": "stream",
          "name": "stdout",
          "text": [
            "time: 261 ms (started: 2023-10-08 13:36:45 +00:00)\n"
          ]
        }
      ]
    },
    {
      "cell_type": "code",
      "source": [
        "import sklearn\n",
        "print(sklearn.__version__)"
      ],
      "metadata": {
        "colab": {
          "base_uri": "https://localhost:8080/"
        },
        "id": "YfdXT7Ch18XV",
        "outputId": "a2d4f3ea-f73a-4d7f-a295-3f034281d452"
      },
      "execution_count": null,
      "outputs": [
        {
          "output_type": "stream",
          "name": "stdout",
          "text": [
            "1.2.2\n",
            "time: 2.16 ms (started: 2023-10-08 13:36:46 +00:00)\n"
          ]
        }
      ]
    },
    {
      "cell_type": "code",
      "source": [
        "!pip install sklearn.grid_search"
      ],
      "metadata": {
        "colab": {
          "base_uri": "https://localhost:8080/"
        },
        "id": "fiZ2DCGu2GC6",
        "outputId": "e5b694f9-bac0-42d3-f274-c2329fcef4c3"
      },
      "execution_count": null,
      "outputs": [
        {
          "output_type": "stream",
          "name": "stdout",
          "text": [
            "\u001b[31mERROR: Could not find a version that satisfies the requirement sklearn.grid_search (from versions: none)\u001b[0m\u001b[31m\n",
            "\u001b[0m\u001b[31mERROR: No matching distribution found for sklearn.grid_search\u001b[0m\u001b[31m\n",
            "\u001b[0mtime: 1.11 s (started: 2023-10-08 13:36:46 +00:00)\n"
          ]
        }
      ]
    },
    {
      "cell_type": "code",
      "source": [
        "import numpy as np\n",
        "from sklearn.model_selection import GridSearchCV\n",
        "from sklearn import svm\n",
        "\n",
        "# Assuming x_train has shape (n_samples, n_features, n_channels)\n",
        "# You need to reshape it to (n_samples, n_features * n_channels)\n",
        "x_train_reshaped = x_train.reshape(147, 120 * 120 * 3)\n",
        "\n",
        "# Now, x_train_reshaped has the correct shape for the SVC classifier\n",
        "\n",
        "# Define parameter grid for the linear kernel and RBF kernel\n",
        "param_grid = [\n",
        "    {'C': [1, 10, 100, 1000], 'kernel': ['linear']},\n",
        "    {'C': [1, 10, 100, 1000], 'gamma': [0.001, 0.0001], 'kernel': ['rbf']},\n",
        "]\n",
        "\n",
        "# Create SVM classifier with probability=True\n",
        "svc = svm.SVC(probability=True)\n",
        "\n",
        "# Create GridSearchCV instance\n",
        "clf = GridSearchCV(svc, param_grid)\n",
        "\n",
        "# Assuming y_train is defined correctly, you can fit the classifier\n",
        "clf.fit(x_train_reshaped, y_train)\n"
      ],
      "metadata": {
        "colab": {
          "base_uri": "https://localhost:8080/",
          "height": 133
        },
        "id": "D4iuTza1uCC4",
        "outputId": "472181fa-26f1-4e15-d4f7-76505d77edd6"
      },
      "execution_count": null,
      "outputs": [
        {
          "output_type": "execute_result",
          "data": {
            "text/plain": [
              "GridSearchCV(estimator=SVC(probability=True),\n",
              "             param_grid=[{'C': [1, 10, 100, 1000], 'kernel': ['linear']},\n",
              "                         {'C': [1, 10, 100, 1000], 'gamma': [0.001, 0.0001],\n",
              "                          'kernel': ['rbf']}])"
            ],
            "text/html": [
              "<style>#sk-container-id-2 {color: black;background-color: white;}#sk-container-id-2 pre{padding: 0;}#sk-container-id-2 div.sk-toggleable {background-color: white;}#sk-container-id-2 label.sk-toggleable__label {cursor: pointer;display: block;width: 100%;margin-bottom: 0;padding: 0.3em;box-sizing: border-box;text-align: center;}#sk-container-id-2 label.sk-toggleable__label-arrow:before {content: \"▸\";float: left;margin-right: 0.25em;color: #696969;}#sk-container-id-2 label.sk-toggleable__label-arrow:hover:before {color: black;}#sk-container-id-2 div.sk-estimator:hover label.sk-toggleable__label-arrow:before {color: black;}#sk-container-id-2 div.sk-toggleable__content {max-height: 0;max-width: 0;overflow: hidden;text-align: left;background-color: #f0f8ff;}#sk-container-id-2 div.sk-toggleable__content pre {margin: 0.2em;color: black;border-radius: 0.25em;background-color: #f0f8ff;}#sk-container-id-2 input.sk-toggleable__control:checked~div.sk-toggleable__content {max-height: 200px;max-width: 100%;overflow: auto;}#sk-container-id-2 input.sk-toggleable__control:checked~label.sk-toggleable__label-arrow:before {content: \"▾\";}#sk-container-id-2 div.sk-estimator input.sk-toggleable__control:checked~label.sk-toggleable__label {background-color: #d4ebff;}#sk-container-id-2 div.sk-label input.sk-toggleable__control:checked~label.sk-toggleable__label {background-color: #d4ebff;}#sk-container-id-2 input.sk-hidden--visually {border: 0;clip: rect(1px 1px 1px 1px);clip: rect(1px, 1px, 1px, 1px);height: 1px;margin: -1px;overflow: hidden;padding: 0;position: absolute;width: 1px;}#sk-container-id-2 div.sk-estimator {font-family: monospace;background-color: #f0f8ff;border: 1px dotted black;border-radius: 0.25em;box-sizing: border-box;margin-bottom: 0.5em;}#sk-container-id-2 div.sk-estimator:hover {background-color: #d4ebff;}#sk-container-id-2 div.sk-parallel-item::after {content: \"\";width: 100%;border-bottom: 1px solid gray;flex-grow: 1;}#sk-container-id-2 div.sk-label:hover label.sk-toggleable__label {background-color: #d4ebff;}#sk-container-id-2 div.sk-serial::before {content: \"\";position: absolute;border-left: 1px solid gray;box-sizing: border-box;top: 0;bottom: 0;left: 50%;z-index: 0;}#sk-container-id-2 div.sk-serial {display: flex;flex-direction: column;align-items: center;background-color: white;padding-right: 0.2em;padding-left: 0.2em;position: relative;}#sk-container-id-2 div.sk-item {position: relative;z-index: 1;}#sk-container-id-2 div.sk-parallel {display: flex;align-items: stretch;justify-content: center;background-color: white;position: relative;}#sk-container-id-2 div.sk-item::before, #sk-container-id-2 div.sk-parallel-item::before {content: \"\";position: absolute;border-left: 1px solid gray;box-sizing: border-box;top: 0;bottom: 0;left: 50%;z-index: -1;}#sk-container-id-2 div.sk-parallel-item {display: flex;flex-direction: column;z-index: 1;position: relative;background-color: white;}#sk-container-id-2 div.sk-parallel-item:first-child::after {align-self: flex-end;width: 50%;}#sk-container-id-2 div.sk-parallel-item:last-child::after {align-self: flex-start;width: 50%;}#sk-container-id-2 div.sk-parallel-item:only-child::after {width: 0;}#sk-container-id-2 div.sk-dashed-wrapped {border: 1px dashed gray;margin: 0 0.4em 0.5em 0.4em;box-sizing: border-box;padding-bottom: 0.4em;background-color: white;}#sk-container-id-2 div.sk-label label {font-family: monospace;font-weight: bold;display: inline-block;line-height: 1.2em;}#sk-container-id-2 div.sk-label-container {text-align: center;}#sk-container-id-2 div.sk-container {/* jupyter's `normalize.less` sets `[hidden] { display: none; }` but bootstrap.min.css set `[hidden] { display: none !important; }` so we also need the `!important` here to be able to override the default hidden behavior on the sphinx rendered scikit-learn.org. See: https://github.com/scikit-learn/scikit-learn/issues/21755 */display: inline-block !important;position: relative;}#sk-container-id-2 div.sk-text-repr-fallback {display: none;}</style><div id=\"sk-container-id-2\" class=\"sk-top-container\"><div class=\"sk-text-repr-fallback\"><pre>GridSearchCV(estimator=SVC(probability=True),\n",
              "             param_grid=[{&#x27;C&#x27;: [1, 10, 100, 1000], &#x27;kernel&#x27;: [&#x27;linear&#x27;]},\n",
              "                         {&#x27;C&#x27;: [1, 10, 100, 1000], &#x27;gamma&#x27;: [0.001, 0.0001],\n",
              "                          &#x27;kernel&#x27;: [&#x27;rbf&#x27;]}])</pre><b>In a Jupyter environment, please rerun this cell to show the HTML representation or trust the notebook. <br />On GitHub, the HTML representation is unable to render, please try loading this page with nbviewer.org.</b></div><div class=\"sk-container\" hidden><div class=\"sk-item sk-dashed-wrapped\"><div class=\"sk-label-container\"><div class=\"sk-label sk-toggleable\"><input class=\"sk-toggleable__control sk-hidden--visually\" id=\"sk-estimator-id-4\" type=\"checkbox\" ><label for=\"sk-estimator-id-4\" class=\"sk-toggleable__label sk-toggleable__label-arrow\">GridSearchCV</label><div class=\"sk-toggleable__content\"><pre>GridSearchCV(estimator=SVC(probability=True),\n",
              "             param_grid=[{&#x27;C&#x27;: [1, 10, 100, 1000], &#x27;kernel&#x27;: [&#x27;linear&#x27;]},\n",
              "                         {&#x27;C&#x27;: [1, 10, 100, 1000], &#x27;gamma&#x27;: [0.001, 0.0001],\n",
              "                          &#x27;kernel&#x27;: [&#x27;rbf&#x27;]}])</pre></div></div></div><div class=\"sk-parallel\"><div class=\"sk-parallel-item\"><div class=\"sk-item\"><div class=\"sk-label-container\"><div class=\"sk-label sk-toggleable\"><input class=\"sk-toggleable__control sk-hidden--visually\" id=\"sk-estimator-id-5\" type=\"checkbox\" ><label for=\"sk-estimator-id-5\" class=\"sk-toggleable__label sk-toggleable__label-arrow\">estimator: SVC</label><div class=\"sk-toggleable__content\"><pre>SVC(probability=True)</pre></div></div></div><div class=\"sk-serial\"><div class=\"sk-item\"><div class=\"sk-estimator sk-toggleable\"><input class=\"sk-toggleable__control sk-hidden--visually\" id=\"sk-estimator-id-6\" type=\"checkbox\" ><label for=\"sk-estimator-id-6\" class=\"sk-toggleable__label sk-toggleable__label-arrow\">SVC</label><div class=\"sk-toggleable__content\"><pre>SVC(probability=True)</pre></div></div></div></div></div></div></div></div></div></div>"
            ]
          },
          "metadata": {},
          "execution_count": 32
        },
        {
          "output_type": "stream",
          "name": "stdout",
          "text": [
            "time: 2min 27s (started: 2023-10-08 14:30:40 +00:00)\n"
          ]
        }
      ]
    },
    {
      "cell_type": "code",
      "source": [
        "import numpy as np\n",
        "\n",
        "# Assuming x_train is your data array\n",
        "n_samples = len(x_train)  # Number of samples\n",
        "n_features = x_train[0].shape[0]  # Number of features per sample\n",
        "\n",
        "# Flatten each sample if necessary (e.g., for images)\n",
        "x_train_reshaped = np.array([sample.flatten() for sample in x_train])\n",
        "\n",
        "# Now, x_train_reshaped has the correct shape for the SVC classifier\n",
        "\n",
        "# Print the values\n",
        "print(\"Number of samples:\", n_samples)\n",
        "print(\"Number of features per sample:\", n_features)\n"
      ],
      "metadata": {
        "colab": {
          "base_uri": "https://localhost:8080/"
        },
        "id": "gwQyXd9O1ero",
        "outputId": "76ac2211-b14f-4974-b3a2-682dbc9eb619"
      },
      "execution_count": null,
      "outputs": [
        {
          "output_type": "stream",
          "name": "stdout",
          "text": [
            "Number of samples: 147\n",
            "Number of features per sample: 120\n",
            "time: 66.1 ms (started: 2023-10-08 14:07:26 +00:00)\n"
          ]
        }
      ]
    },
    {
      "cell_type": "code",
      "source": [
        "x_train.shape"
      ],
      "metadata": {
        "colab": {
          "base_uri": "https://localhost:8080/"
        },
        "id": "NGTWYmAMmkt7",
        "outputId": "a34ccea2-0e20-44e2-c4b8-a90bb73c3027"
      },
      "execution_count": null,
      "outputs": [
        {
          "output_type": "execute_result",
          "data": {
            "text/plain": [
              "(147, 120, 120, 3)"
            ]
          },
          "metadata": {},
          "execution_count": 29
        },
        {
          "output_type": "stream",
          "name": "stdout",
          "text": [
            "time: 18.1 ms (started: 2023-10-08 14:19:41 +00:00)\n"
          ]
        }
      ]
    },
    {
      "cell_type": "code",
      "source": [
        "x_train.head()"
      ],
      "metadata": {
        "colab": {
          "base_uri": "https://localhost:8080/",
          "height": 198
        },
        "id": "7AK0MUtAqIFN",
        "outputId": "4e6f02d1-3d65-4ce4-8270-073953fe70a9"
      },
      "execution_count": null,
      "outputs": [
        {
          "output_type": "error",
          "ename": "AttributeError",
          "evalue": "ignored",
          "traceback": [
            "\u001b[0;31m---------------------------------------------------------------------------\u001b[0m",
            "\u001b[0;31mAttributeError\u001b[0m                            Traceback (most recent call last)",
            "\u001b[0;32m<ipython-input-31-3c4ecc6cd86a>\u001b[0m in \u001b[0;36m<cell line: 1>\u001b[0;34m()\u001b[0m\n\u001b[0;32m----> 1\u001b[0;31m \u001b[0mx_train\u001b[0m\u001b[0;34m.\u001b[0m\u001b[0mhead\u001b[0m\u001b[0;34m(\u001b[0m\u001b[0;34m)\u001b[0m\u001b[0;34m\u001b[0m\u001b[0;34m\u001b[0m\u001b[0m\n\u001b[0m",
            "\u001b[0;31mAttributeError\u001b[0m: 'numpy.ndarray' object has no attribute 'head'"
          ]
        },
        {
          "output_type": "stream",
          "name": "stdout",
          "text": [
            "time: 23.9 ms (started: 2023-10-08 14:26:53 +00:00)\n"
          ]
        }
      ]
    },
    {
      "cell_type": "code",
      "source": [
        "x_testreshaped=x_test.reshape(63,120*120*3)\n",
        "y_pred=clf.predict(x_testreshaped)\n"
      ],
      "metadata": {
        "colab": {
          "base_uri": "https://localhost:8080/"
        },
        "id": "dvCFM4eirxqW",
        "outputId": "70ce7c1f-4ccf-4cca-f68b-5eed382ad7da"
      },
      "execution_count": null,
      "outputs": [
        {
          "output_type": "stream",
          "name": "stdout",
          "text": [
            "time: 144 ms (started: 2023-10-08 14:37:08 +00:00)\n"
          ]
        }
      ]
    },
    {
      "cell_type": "code",
      "source": [
        "x_test.shape"
      ],
      "metadata": {
        "colab": {
          "base_uri": "https://localhost:8080/"
        },
        "id": "Lom3XxM2titp",
        "outputId": "1f616775-c100-4ebf-d61f-03628f3663aa"
      },
      "execution_count": null,
      "outputs": [
        {
          "output_type": "execute_result",
          "data": {
            "text/plain": [
              "(63, 120, 120, 3)"
            ]
          },
          "metadata": {},
          "execution_count": 35
        },
        {
          "output_type": "stream",
          "name": "stdout",
          "text": [
            "time: 14.1 ms (started: 2023-10-08 14:36:42 +00:00)\n"
          ]
        }
      ]
    },
    {
      "cell_type": "code",
      "source": [
        "y_pred"
      ],
      "metadata": {
        "colab": {
          "base_uri": "https://localhost:8080/"
        },
        "id": "VKXFQmxNuBlr",
        "outputId": "93edb2f0-af91-485b-aa04-59afa8f6a34d"
      },
      "execution_count": null,
      "outputs": [
        {
          "output_type": "execute_result",
          "data": {
            "text/plain": [
              "array([1, 2, 0, 1, 1, 2, 0, 1, 1, 0, 1, 1, 2, 0, 0, 0, 1, 1, 0, 2, 1, 2,\n",
              "       0, 2, 2, 1, 1, 0, 1, 0, 0, 0, 1, 2, 0, 2, 1, 0, 1, 0, 0, 2, 0, 0,\n",
              "       2, 0, 2, 1, 1, 2, 2, 0, 1, 0, 2, 1, 2, 0, 0, 2, 1, 2, 2])"
            ]
          },
          "metadata": {},
          "execution_count": 38
        },
        {
          "output_type": "stream",
          "name": "stdout",
          "text": [
            "time: 12.7 ms (started: 2023-10-08 14:37:34 +00:00)\n"
          ]
        }
      ]
    },
    {
      "cell_type": "code",
      "source": [
        "y_test"
      ],
      "metadata": {
        "colab": {
          "base_uri": "https://localhost:8080/"
        },
        "id": "9vKlF06HuOPc",
        "outputId": "8d2bd789-537c-4575-c9bc-189e3ba9c72b"
      },
      "execution_count": null,
      "outputs": [
        {
          "output_type": "execute_result",
          "data": {
            "text/plain": [
              "array([1, 2, 0, 1, 1, 2, 0, 1, 1, 0, 1, 1, 0, 0, 0, 2, 1, 1, 0, 2, 1, 0,\n",
              "       0, 2, 2, 0, 1, 0, 1, 0, 0, 0, 1, 2, 0, 2, 1, 2, 2, 0, 0, 2, 0, 2,\n",
              "       2, 0, 2, 1, 2, 2, 2, 0, 1, 0, 2, 1, 2, 0, 0, 2, 1, 2, 2])"
            ]
          },
          "metadata": {},
          "execution_count": 39
        },
        {
          "output_type": "stream",
          "name": "stdout",
          "text": [
            "time: 23.9 ms (started: 2023-10-08 14:37:46 +00:00)\n"
          ]
        }
      ]
    },
    {
      "cell_type": "code",
      "source": [
        "from sklearn.metrics import accuracy_score,confusion_matrix"
      ],
      "metadata": {
        "colab": {
          "base_uri": "https://localhost:8080/"
        },
        "id": "QMjGl--7uRCf",
        "outputId": "c5999a3e-8a66-44eb-c507-cef7867ebf34"
      },
      "execution_count": null,
      "outputs": [
        {
          "output_type": "stream",
          "name": "stdout",
          "text": [
            "time: 567 µs (started: 2023-10-08 14:38:23 +00:00)\n"
          ]
        }
      ]
    },
    {
      "cell_type": "code",
      "source": [
        "accuracy_score(y_pred,y_test)"
      ],
      "metadata": {
        "colab": {
          "base_uri": "https://localhost:8080/"
        },
        "id": "gyTIw2pguZw-",
        "outputId": "ce48a911-2b66-445d-b590-3b31b05279c8"
      },
      "execution_count": null,
      "outputs": [
        {
          "output_type": "execute_result",
          "data": {
            "text/plain": [
              "0.873015873015873"
            ]
          },
          "metadata": {},
          "execution_count": 41
        },
        {
          "output_type": "stream",
          "name": "stdout",
          "text": [
            "time: 17.6 ms (started: 2023-10-08 14:38:40 +00:00)\n"
          ]
        }
      ]
    },
    {
      "cell_type": "code",
      "source": [
        "confusion_matrix(y_pred,y_test)"
      ],
      "metadata": {
        "colab": {
          "base_uri": "https://localhost:8080/"
        },
        "id": "4Za5Fyc4ueVM",
        "outputId": "a8e78a39-1222-474e-dcf0-1b9cc8652b1f"
      },
      "execution_count": null,
      "outputs": [
        {
          "output_type": "execute_result",
          "data": {
            "text/plain": [
              "array([[20,  0,  3],\n",
              "       [ 1, 18,  2],\n",
              "       [ 2,  0, 17]])"
            ]
          },
          "metadata": {},
          "execution_count": 44
        },
        {
          "output_type": "stream",
          "name": "stdout",
          "text": [
            "time: 20.6 ms (started: 2023-10-08 14:39:25 +00:00)\n"
          ]
        }
      ]
    },
    {
      "cell_type": "code",
      "source": [
        "#save the model\n",
        "import pickle\n",
        "pickle.dump(clf,open('img_model.p','wb')) # writing the byte wb\n",
        " #dumping the model ..saving the model inot the pickle file\n",
        " #saving everything iintot hte pickle file\n"
      ],
      "metadata": {
        "colab": {
          "base_uri": "https://localhost:8080/"
        },
        "id": "n9VO_pL1ujYB",
        "outputId": "f1f8443b-ba51-4825-e73a-52ba240b9796"
      },
      "execution_count": null,
      "outputs": [
        {
          "output_type": "stream",
          "name": "stdout",
          "text": [
            "time: 90.1 ms (started: 2023-10-08 14:55:09 +00:00)\n"
          ]
        }
      ]
    },
    {
      "cell_type": "code",
      "source": [
        "model =pickle.load((open('img_model.p','rb'))) # reading the byte rb"
      ],
      "metadata": {
        "colab": {
          "base_uri": "https://localhost:8080/"
        },
        "id": "Nf6rKdG0yLG2",
        "outputId": "06680292-6215-4cef-b2a0-525138d03306"
      },
      "execution_count": null,
      "outputs": [
        {
          "output_type": "stream",
          "name": "stdout",
          "text": [
            "time: 15 ms (started: 2023-10-08 14:56:41 +00:00)\n"
          ]
        }
      ]
    },
    {
      "cell_type": "code",
      "source": [
        "#Testing the brand new image\n",
        "#here is the multiclass classiifcation"
      ],
      "metadata": {
        "colab": {
          "base_uri": "https://localhost:8080/"
        },
        "id": "J17k6lqWylP0",
        "outputId": "28f608dc-f3e0-4fac-89dc-e113c7e45363"
      },
      "execution_count": null,
      "outputs": [
        {
          "output_type": "stream",
          "name": "stdout",
          "text": [
            "time: 270 µs (started: 2023-10-08 14:57:19 +00:00)\n"
          ]
        }
      ]
    },
    {
      "cell_type": "code",
      "source": [
        "flat_data=[]\n",
        "url=input('Enter the url')\n",
        "img=imread(url)\n",
        "img_resized=resize(img,(120,120,3))\n",
        "flat_data.append(img_resized.flatten())\n",
        "flat_data=np.array(flat_data)\n",
        "print(img.shape)\n",
        "plt.imshow(img_resized)\n",
        "y_out=model.predict(flat_data)\n",
        "y_out=CATEGORIES[y_out[0]]\n",
        "print(f'PREDICTED OUTPUT :{y_out}')"
      ],
      "metadata": {
        "colab": {
          "base_uri": "https://localhost:8080/",
          "height": 526
        },
        "id": "5YUwzHWbyu1E",
        "outputId": "0d802368-e551-4df3-91de-69bd652a4bb4"
      },
      "execution_count": null,
      "outputs": [
        {
          "output_type": "stream",
          "name": "stdout",
          "text": [
            "Enter the urlhttps://c8.alamy.com/comp/ED8WDX/sun-flowers-on-a-sunny-day-ED8WDX.jpg\n",
            "(956, 1300, 3)\n",
            "PREDICTED OUTPUT :pretty sunflower\n"
          ]
        },
        {
          "output_type": "display_data",
          "data": {
            "text/plain": [
              "<Figure size 640x480 with 1 Axes>"
            ],
            "image/png": "[encoded data removed]"
          },
          "metadata": {}
        },
        {
          "output_type": "stream",
          "name": "stdout",
          "text": [
            "time: 42.8 s (started: 2023-10-08 15:11:09 +00:00)\n"
          ]
        }
      ]
    },
    {
      "cell_type": "code",
      "source": [
        "!pip install streamlit\n",
        "!pip install pyngrok\n",
        "from pyngrok import ngrok"
      ],
      "metadata": {
        "colab": {
          "base_uri": "https://localhost:8080/"
        },
        "id": "LJ9kz6ow0aJZ",
        "outputId": "321e09d8-759c-4e70-ab73-da55db257a30"
      },
      "execution_count": null,
      "outputs": [
        {
          "output_type": "stream",
          "name": "stdout",
          "text": [
            "Collecting streamlit\n",
            "  Downloading streamlit-1.27.2-py2.py3-none-any.whl (7.6 MB)\n",
            "\u001b[2K     \u001b[90m━━━━━━━━━━━━━━━━━━━━━━━━━━━━━━━━━━━━━━━━\u001b[0m \u001b[32m7.6/7.6 MB\u001b[0m \u001b[31m16.5 MB/s\u001b[0m eta \u001b[36m0:00:00\u001b[0m\n",
            "\u001b[?25hRequirement already satisfied: altair<6,>=4.0 in /usr/local/lib/python3.10/dist-packages (from streamlit) (4.2.2)\n",
            "Requirement already satisfied: blinker<2,>=1.0.0 in /usr/lib/python3/dist-packages (from streamlit) (1.4)\n",
            "Requirement already satisfied: cachetools<6,>=4.0 in /usr/local/lib/python3.10/dist-packages (from streamlit) (5.3.1)\n",
            "Requirement already satisfied: click<9,>=7.0 in /usr/local/lib/python3.10/dist-packages (from streamlit) (8.1.7)\n",
            "Requirement already satisfied: importlib-metadata<7,>=1.4 in /usr/local/lib/python3.10/dist-packages (from streamlit) (6.8.0)\n",
            "Requirement already satisfied: numpy<2,>=1.19.3 in /usr/local/lib/python3.10/dist-packages (from streamlit) (1.23.5)\n",
            "Requirement already satisfied: packaging<24,>=16.8 in /usr/local/lib/python3.10/dist-packages (from streamlit) (23.2)\n",
            "Requirement already satisfied: pandas<3,>=1.3.0 in /usr/local/lib/python3.10/dist-packages (from streamlit) (1.5.3)\n",
            "Requirement already satisfied: pillow<11,>=7.1.0 in /usr/local/lib/python3.10/dist-packages (from streamlit) (9.4.0)\n",
            "Requirement already satisfied: protobuf<5,>=3.20 in /usr/local/lib/python3.10/dist-packages (from streamlit) (3.20.3)\n",
            "Requirement already satisfied: pyarrow>=6.0 in /usr/local/lib/python3.10/dist-packages (from streamlit) (9.0.0)\n",
            "Requirement already satisfied: python-dateutil<3,>=2.7.3 in /usr/local/lib/python3.10/dist-packages (from streamlit) (2.8.2)\n",
            "Requirement already satisfied: requests<3,>=2.27 in /usr/local/lib/python3.10/dist-packages (from streamlit) (2.31.0)\n",
            "Requirement already satisfied: rich<14,>=10.14.0 in /usr/local/lib/python3.10/dist-packages (from streamlit) (13.6.0)\n",
            "Requirement already satisfied: tenacity<9,>=8.1.0 in /usr/local/lib/python3.10/dist-packages (from streamlit) (8.2.3)\n",
            "Requirement already satisfied: toml<2,>=0.10.1 in /usr/local/lib/python3.10/dist-packages (from streamlit) (0.10.2)\n",
            "Requirement already satisfied: typing-extensions<5,>=4.3.0 in /usr/local/lib/python3.10/dist-packages (from streamlit) (4.5.0)\n",
            "Requirement already satisfied: tzlocal<6,>=1.1 in /usr/local/lib/python3.10/dist-packages (from streamlit) (5.1)\n",
            "Collecting validators<1,>=0.2 (from streamlit)\n",
            "  Downloading validators-0.22.0-py3-none-any.whl (26 kB)\n",
            "Collecting gitpython!=3.1.19,<4,>=3.0.7 (from streamlit)\n",
            "  Downloading GitPython-3.1.37-py3-none-any.whl (190 kB)\n",
            "\u001b[2K     \u001b[90m━━━━━━━━━━━━━━━━━━━━━━━━━━━━━━━━━━━━━━\u001b[0m \u001b[32m190.0/190.0 kB\u001b[0m \u001b[31m19.3 MB/s\u001b[0m eta \u001b[36m0:00:00\u001b[0m\n",
            "\u001b[?25hCollecting pydeck<1,>=0.8.0b4 (from streamlit)\n",
            "  Downloading pydeck-0.8.1b0-py2.py3-none-any.whl (4.8 MB)\n",
            "\u001b[2K     \u001b[90m━━━━━━━━━━━━━━━━━━━━━━━━━━━━━━━━━━━━━━━━\u001b[0m \u001b[32m4.8/4.8 MB\u001b[0m \u001b[31m51.9 MB/s\u001b[0m eta \u001b[36m0:00:00\u001b[0m\n",
            "\u001b[?25hRequirement already satisfied: tornado<7,>=6.0.3 in /usr/local/lib/python3.10/dist-packages (from streamlit) (6.3.2)\n",
            "Collecting watchdog>=2.1.5 (from streamlit)\n",
            "  Downloading watchdog-3.0.0-py3-none-manylinux2014_x86_64.whl (82 kB)\n",
            "\u001b[2K     \u001b[90m━━━━━━━━━━━━━━━━━━━━━━━━━━━━━━━━━━━━━━━━\u001b[0m \u001b[32m82.1/82.1 kB\u001b[0m \u001b[31m10.0 MB/s\u001b[0m eta \u001b[36m0:00:00\u001b[0m\n",
            "\u001b[?25hRequirement already satisfied: entrypoints in /usr/local/lib/python3.10/dist-packages (from altair<6,>=4.0->streamlit) (0.4)\n",
            "Requirement already satisfied: jinja2 in /usr/local/lib/python3.10/dist-packages (from altair<6,>=4.0->streamlit) (3.1.2)\n",
            "Requirement already satisfied: jsonschema>=3.0 in /usr/local/lib/python3.10/dist-packages (from altair<6,>=4.0->streamlit) (4.19.1)\n",
            "Requirement already satisfied: toolz in /usr/local/lib/python3.10/dist-packages (from altair<6,>=4.0->streamlit) (0.12.0)\n",
            "Collecting gitdb<5,>=4.0.1 (from gitpython!=3.1.19,<4,>=3.0.7->streamlit)\n",
            "  Downloading gitdb-4.0.10-py3-none-any.whl (62 kB)\n",
            "\u001b[2K     \u001b[90m━━━━━━━━━━━━━━━━━━━━━━━━━━━━━━━━━━━━━━━━\u001b[0m \u001b[32m62.7/62.7 kB\u001b[0m \u001b[31m6.7 MB/s\u001b[0m eta \u001b[36m0:00:00\u001b[0m\n",
            "\u001b[?25hRequirement already satisfied: zipp>=0.5 in /usr/local/lib/python3.10/dist-packages (from importlib-metadata<7,>=1.4->streamlit) (3.17.0)\n",
            "Requirement already satisfied: pytz>=2020.1 in /usr/local/lib/python3.10/dist-packages (from pandas<3,>=1.3.0->streamlit) (2023.3.post1)\n",
            "Requirement already satisfied: six>=1.5 in /usr/local/lib/python3.10/dist-packages (from python-dateutil<3,>=2.7.3->streamlit) (1.16.0)\n",
            "Requirement already satisfied: charset-normalizer<4,>=2 in /usr/local/lib/python3.10/dist-packages (from requests<3,>=2.27->streamlit) (3.3.0)\n",
            "Requirement already satisfied: idna<4,>=2.5 in /usr/local/lib/python3.10/dist-packages (from requests<3,>=2.27->streamlit) (3.4)\n",
            "Requirement already satisfied: urllib3<3,>=1.21.1 in /usr/local/lib/python3.10/dist-packages (from requests<3,>=2.27->streamlit) (2.0.6)\n",
            "Requirement already satisfied: certifi>=2017.4.17 in /usr/local/lib/python3.10/dist-packages (from requests<3,>=2.27->streamlit) (2023.7.22)\n",
            "Requirement already satisfied: markdown-it-py>=2.2.0 in /usr/local/lib/python3.10/dist-packages (from rich<14,>=10.14.0->streamlit) (3.0.0)\n",
            "Requirement already satisfied: pygments<3.0.0,>=2.13.0 in /usr/local/lib/python3.10/dist-packages (from rich<14,>=10.14.0->streamlit) (2.16.1)\n",
            "Collecting smmap<6,>=3.0.1 (from gitdb<5,>=4.0.1->gitpython!=3.1.19,<4,>=3.0.7->streamlit)\n",
            "  Downloading smmap-5.0.1-py3-none-any.whl (24 kB)\n",
            "Requirement already satisfied: MarkupSafe>=2.0 in /usr/local/lib/python3.10/dist-packages (from jinja2->altair<6,>=4.0->streamlit) (2.1.3)\n",
            "Requirement already satisfied: attrs>=22.2.0 in /usr/local/lib/python3.10/dist-packages (from jsonschema>=3.0->altair<6,>=4.0->streamlit) (23.1.0)\n",
            "Requirement already satisfied: jsonschema-specifications>=2023.03.6 in /usr/local/lib/python3.10/dist-packages (from jsonschema>=3.0->altair<6,>=4.0->streamlit) (2023.7.1)\n",
            "Requirement already satisfied: referencing>=0.28.4 in /usr/local/lib/python3.10/dist-packages (from jsonschema>=3.0->altair<6,>=4.0->streamlit) (0.30.2)\n",
            "Requirement already satisfied: rpds-py>=0.7.1 in /usr/local/lib/python3.10/dist-packages (from jsonschema>=3.0->altair<6,>=4.0->streamlit) (0.10.3)\n",
            "Requirement already satisfied: mdurl~=0.1 in /usr/local/lib/python3.10/dist-packages (from markdown-it-py>=2.2.0->rich<14,>=10.14.0->streamlit) (0.1.2)\n",
            "Installing collected packages: watchdog, validators, smmap, pydeck, gitdb, gitpython, streamlit\n",
            "Successfully installed gitdb-4.0.10 gitpython-3.1.37 pydeck-0.8.1b0 smmap-5.0.1 streamlit-1.27.2 validators-0.22.0 watchdog-3.0.0\n",
            "Collecting pyngrok\n",
            "  Downloading pyngrok-7.0.0.tar.gz (718 kB)\n",
            "\u001b[2K     \u001b[90m━━━━━━━━━━━━━━━━━━━━━━━━━━━━━━━━━━━━━━━\u001b[0m \u001b[32m718.7/718.7 kB\u001b[0m \u001b[31m6.3 MB/s\u001b[0m eta \u001b[36m0:00:00\u001b[0m\n",
            "\u001b[?25h  Preparing metadata (setup.py) ... \u001b[?25l\u001b[?25hdone\n",
            "Requirement already satisfied: PyYAML in /usr/local/lib/python3.10/dist-packages (from pyngrok) (6.0.1)\n",
            "Building wheels for collected packages: pyngrok\n",
            "  Building wheel for pyngrok (setup.py) ... \u001b[?25l\u001b[?25hdone\n",
            "  Created wheel for pyngrok: filename=pyngrok-7.0.0-py3-none-any.whl size=21129 sha256=8ce6a80a93c78cb84d238b0eeaf533b53a184a4401b695cc0251c74c3de3e917\n",
            "  Stored in directory: /root/.cache/pip/wheels/60/29/7b/f64332aa7e5e88fbd56d4002185ae22dcdc83b35b3d1c2cbf5\n",
            "Successfully built pyngrok\n",
            "Installing collected packages: pyngrok\n",
            "Successfully installed pyngrok-7.0.0\n",
            "time: 17.2 s (started: 2023-10-08 15:18:33 +00:00)\n"
          ]
        }
      ]
    },
    {
      "cell_type": "code",
      "source": [
        "#Deployment\n",
        "#1 webapp - html,css,js -Flask/Django\n",
        "#2 webpage- stramlit/Dash\n",
        "#3 MObile app\n"
      ],
      "metadata": {
        "colab": {
          "base_uri": "https://localhost:8080/"
        },
        "id": "HZrsir3k3mEf",
        "outputId": "002e810e-7da1-4971-dc3c-e0c51ed119c0"
      },
      "execution_count": null,
      "outputs": [
        {
          "output_type": "stream",
          "name": "stdout",
          "text": [
            "time: 518 µs (started: 2023-10-08 15:23:55 +00:00)\n"
          ]
        }
      ]
    },
    {
      "cell_type": "code",
      "source": [
        "%%writefile app.py\n",
        "import streamlit as st\n",
        "st.title('Image classifier')\n"
      ],
      "metadata": {
        "colab": {
          "base_uri": "https://localhost:8080/"
        },
        "id": "cbnUEV_S40bN",
        "outputId": "ffb8d2ce-da0a-43e5-e4ed-0977fe369db2"
      },
      "execution_count": null,
      "outputs": [
        {
          "output_type": "stream",
          "name": "stdout",
          "text": [
            "Writing app.py\n",
            "time: 5.35 ms (started: 2023-10-08 15:27:14 +00:00)\n"
          ]
        }
      ]
    },
    {
      "cell_type": "code",
      "source": [
        "!nano ~/.ngrok2/ngrok.yml"
      ],
      "metadata": {
        "id": "hfQ1aWDR6lZK"
      },
      "execution_count": null,
      "outputs": []
    },
    {
      "cell_type": "code",
      "source": [],
      "metadata": {
        "id": "ltdRQwsv64eV"
      },
      "execution_count": null,
      "outputs": []
    }
  ]
}